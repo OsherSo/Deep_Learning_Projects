{
 "cells": [
  {
   "cell_type": "code",
   "execution_count": 37,
   "id": "d20ed602",
   "metadata": {},
   "outputs": [],
   "source": [
    "import numpy as np\n",
    "import pandas as pd\n",
    "import matplotlib.pyplot as plt\n",
    "\n",
    "from tensorflow.keras.datasets import boston_housing\n",
    "\n",
    "from tensorflow.keras.models import Sequential\n",
    "from tensorflow.keras.layers import Dense, Dropout\n",
    "from tensorflow.keras.callbacks import EarlyStopping\n",
    "\n",
    "from sklearn.preprocessing import MinMaxScaler\n",
    "from sklearn.metrics import mean_squared_error, mean_absolute_error"
   ]
  },
  {
   "cell_type": "code",
   "execution_count": 38,
   "id": "70d4b90b",
   "metadata": {},
   "outputs": [
    {
     "data": {
      "text/plain": [
       "(404, 13)"
      ]
     },
     "execution_count": 38,
     "metadata": {},
     "output_type": "execute_result"
    }
   ],
   "source": [
    "(x_train, y_train), (x_test, y_test) = boston_housing.load_data()\n",
    "\n",
    "scaler = MinMaxScaler()\n",
    "\n",
    "x_train = scaler.fit_transform(x_train)\n",
    "x_test = scaler.transform(x_test)\n",
    "\n",
    "x_train.shape"
   ]
  },
  {
   "cell_type": "code",
   "execution_count": 39,
   "id": "469cc14f",
   "metadata": {},
   "outputs": [
    {
     "name": "stdout",
     "output_type": "stream",
     "text": [
      "Epoch 1/400\n",
      "13/13 [==============================] - 0s 6ms/step - loss: 588.7354 - val_loss: 615.7980\n",
      "Epoch 2/400\n",
      "13/13 [==============================] - 0s 3ms/step - loss: 583.9191 - val_loss: 611.2165\n",
      "Epoch 3/400\n",
      "13/13 [==============================] - 0s 2ms/step - loss: 579.6923 - val_loss: 606.9946\n",
      "Epoch 4/400\n",
      "13/13 [==============================] - 0s 2ms/step - loss: 575.4821 - val_loss: 602.7514\n",
      "Epoch 5/400\n",
      "13/13 [==============================] - 0s 2ms/step - loss: 570.8726 - val_loss: 597.3908\n",
      "Epoch 6/400\n",
      "13/13 [==============================] - 0s 2ms/step - loss: 564.8948 - val_loss: 590.3011\n",
      "Epoch 7/400\n",
      "13/13 [==============================] - 0s 2ms/step - loss: 557.0426 - val_loss: 580.6870\n",
      "Epoch 8/400\n",
      "13/13 [==============================] - 0s 2ms/step - loss: 546.5447 - val_loss: 567.7730\n",
      "Epoch 9/400\n",
      "13/13 [==============================] - 0s 2ms/step - loss: 532.3756 - val_loss: 550.4080\n",
      "Epoch 10/400\n",
      "13/13 [==============================] - 0s 2ms/step - loss: 513.6320 - val_loss: 527.0367\n",
      "Epoch 11/400\n",
      "13/13 [==============================] - 0s 2ms/step - loss: 488.3362 - val_loss: 496.7285\n",
      "Epoch 12/400\n",
      "13/13 [==============================] - 0s 2ms/step - loss: 456.6714 - val_loss: 459.4698\n",
      "Epoch 13/400\n",
      "13/13 [==============================] - 0s 2ms/step - loss: 418.7241 - val_loss: 416.9323\n",
      "Epoch 14/400\n",
      "13/13 [==============================] - 0s 2ms/step - loss: 376.4718 - val_loss: 370.9593\n",
      "Epoch 15/400\n",
      "13/13 [==============================] - 0s 2ms/step - loss: 332.1865 - val_loss: 324.1087\n",
      "Epoch 16/400\n",
      "13/13 [==============================] - 0s 2ms/step - loss: 287.7046 - val_loss: 278.1035\n",
      "Epoch 17/400\n",
      "13/13 [==============================] - 0s 2ms/step - loss: 244.7852 - val_loss: 236.1390\n",
      "Epoch 18/400\n",
      "13/13 [==============================] - 0s 2ms/step - loss: 207.8519 - val_loss: 200.0509\n",
      "Epoch 19/400\n",
      "13/13 [==============================] - 0s 2ms/step - loss: 177.9145 - val_loss: 173.6721\n",
      "Epoch 20/400\n",
      "13/13 [==============================] - 0s 2ms/step - loss: 157.1723 - val_loss: 156.8447\n",
      "Epoch 21/400\n",
      "13/13 [==============================] - 0s 2ms/step - loss: 144.2566 - val_loss: 146.2135\n",
      "Epoch 22/400\n",
      "13/13 [==============================] - 0s 2ms/step - loss: 135.2378 - val_loss: 138.9289\n",
      "Epoch 23/400\n",
      "13/13 [==============================] - 0s 2ms/step - loss: 128.5932 - val_loss: 132.5849\n",
      "Epoch 24/400\n",
      "13/13 [==============================] - 0s 2ms/step - loss: 122.8084 - val_loss: 126.5297\n",
      "Epoch 25/400\n",
      "13/13 [==============================] - 0s 2ms/step - loss: 117.0144 - val_loss: 120.9103\n",
      "Epoch 26/400\n",
      "13/13 [==============================] - 0s 2ms/step - loss: 111.6049 - val_loss: 115.6449\n",
      "Epoch 27/400\n",
      "13/13 [==============================] - 0s 2ms/step - loss: 106.5406 - val_loss: 110.4861\n",
      "Epoch 28/400\n",
      "13/13 [==============================] - 0s 2ms/step - loss: 101.6590 - val_loss: 105.5346\n",
      "Epoch 29/400\n",
      "13/13 [==============================] - 0s 2ms/step - loss: 96.8901 - val_loss: 101.0473\n",
      "Epoch 30/400\n",
      "13/13 [==============================] - 0s 2ms/step - loss: 92.7076 - val_loss: 96.5469\n",
      "Epoch 31/400\n",
      "13/13 [==============================] - 0s 2ms/step - loss: 88.5255 - val_loss: 92.5064\n",
      "Epoch 32/400\n",
      "13/13 [==============================] - 0s 2ms/step - loss: 84.7437 - val_loss: 88.5826\n",
      "Epoch 33/400\n",
      "13/13 [==============================] - 0s 2ms/step - loss: 81.1742 - val_loss: 85.0291\n",
      "Epoch 34/400\n",
      "13/13 [==============================] - 0s 2ms/step - loss: 77.8959 - val_loss: 81.7664\n",
      "Epoch 35/400\n",
      "13/13 [==============================] - 0s 2ms/step - loss: 74.7742 - val_loss: 78.6806\n",
      "Epoch 36/400\n",
      "13/13 [==============================] - 0s 2ms/step - loss: 71.9743 - val_loss: 75.8858\n",
      "Epoch 37/400\n",
      "13/13 [==============================] - 0s 2ms/step - loss: 69.4358 - val_loss: 73.2759\n",
      "Epoch 38/400\n",
      "13/13 [==============================] - 0s 2ms/step - loss: 67.1081 - val_loss: 70.8552\n",
      "Epoch 39/400\n",
      "13/13 [==============================] - 0s 2ms/step - loss: 64.9990 - val_loss: 68.7642\n",
      "Epoch 40/400\n",
      "13/13 [==============================] - 0s 2ms/step - loss: 63.1324 - val_loss: 66.8037\n",
      "Epoch 41/400\n",
      "13/13 [==============================] - 0s 2ms/step - loss: 61.5401 - val_loss: 65.0199\n",
      "Epoch 42/400\n",
      "13/13 [==============================] - 0s 2ms/step - loss: 59.8546 - val_loss: 63.4000\n",
      "Epoch 43/400\n",
      "13/13 [==============================] - 0s 2ms/step - loss: 58.3025 - val_loss: 62.0326\n",
      "Epoch 44/400\n",
      "13/13 [==============================] - 0s 2ms/step - loss: 57.2061 - val_loss: 60.6745\n",
      "Epoch 45/400\n",
      "13/13 [==============================] - 0s 2ms/step - loss: 55.9062 - val_loss: 59.3564\n",
      "Epoch 46/400\n",
      "13/13 [==============================] - 0s 2ms/step - loss: 54.7603 - val_loss: 58.1759\n",
      "Epoch 47/400\n",
      "13/13 [==============================] - 0s 2ms/step - loss: 53.6738 - val_loss: 56.9541\n",
      "Epoch 48/400\n",
      "13/13 [==============================] - 0s 2ms/step - loss: 52.4921 - val_loss: 55.6054\n",
      "Epoch 49/400\n",
      "13/13 [==============================] - 0s 2ms/step - loss: 51.3458 - val_loss: 54.4706\n",
      "Epoch 50/400\n",
      "13/13 [==============================] - 0s 2ms/step - loss: 50.3658 - val_loss: 53.4216\n",
      "Epoch 51/400\n",
      "13/13 [==============================] - 0s 2ms/step - loss: 49.4240 - val_loss: 52.3557\n",
      "Epoch 52/400\n",
      "13/13 [==============================] - 0s 2ms/step - loss: 48.5431 - val_loss: 51.4100\n",
      "Epoch 53/400\n",
      "13/13 [==============================] - 0s 2ms/step - loss: 47.7236 - val_loss: 50.5104\n",
      "Epoch 54/400\n",
      "13/13 [==============================] - 0s 2ms/step - loss: 46.9524 - val_loss: 49.5899\n",
      "Epoch 55/400\n",
      "13/13 [==============================] - 0s 2ms/step - loss: 46.2054 - val_loss: 48.8028\n",
      "Epoch 56/400\n",
      "13/13 [==============================] - 0s 2ms/step - loss: 45.5670 - val_loss: 48.0389\n",
      "Epoch 57/400\n",
      "13/13 [==============================] - 0s 2ms/step - loss: 44.8437 - val_loss: 47.2429\n",
      "Epoch 58/400\n",
      "13/13 [==============================] - 0s 2ms/step - loss: 44.3971 - val_loss: 46.6749\n",
      "Epoch 59/400\n",
      "13/13 [==============================] - 0s 2ms/step - loss: 43.4347 - val_loss: 45.8580\n",
      "Epoch 60/400\n",
      "13/13 [==============================] - 0s 2ms/step - loss: 42.9150 - val_loss: 45.1994\n",
      "Epoch 61/400\n",
      "13/13 [==============================] - 0s 2ms/step - loss: 42.3889 - val_loss: 44.5745\n",
      "Epoch 62/400\n",
      "13/13 [==============================] - 0s 2ms/step - loss: 41.6032 - val_loss: 43.8401\n",
      "Epoch 63/400\n",
      "13/13 [==============================] - 0s 2ms/step - loss: 40.9406 - val_loss: 43.1937\n",
      "Epoch 64/400\n",
      "13/13 [==============================] - 0s 2ms/step - loss: 40.3393 - val_loss: 42.6140\n",
      "Epoch 65/400\n",
      "13/13 [==============================] - 0s 2ms/step - loss: 39.7014 - val_loss: 42.1907\n",
      "Epoch 66/400\n",
      "13/13 [==============================] - 0s 2ms/step - loss: 39.1778 - val_loss: 41.4949\n",
      "Epoch 67/400\n",
      "13/13 [==============================] - 0s 2ms/step - loss: 38.5801 - val_loss: 40.7737\n",
      "Epoch 68/400\n",
      "13/13 [==============================] - 0s 2ms/step - loss: 37.9700 - val_loss: 40.2027\n",
      "Epoch 69/400\n",
      "13/13 [==============================] - 0s 2ms/step - loss: 37.4299 - val_loss: 39.7246\n",
      "Epoch 70/400\n",
      "13/13 [==============================] - 0s 2ms/step - loss: 36.8587 - val_loss: 39.0597\n",
      "Epoch 71/400\n",
      "13/13 [==============================] - 0s 2ms/step - loss: 36.3188 - val_loss: 38.4818\n",
      "Epoch 72/400\n",
      "13/13 [==============================] - 0s 2ms/step - loss: 35.7903 - val_loss: 37.9449\n",
      "Epoch 73/400\n",
      "13/13 [==============================] - 0s 2ms/step - loss: 35.2092 - val_loss: 37.5460\n",
      "Epoch 74/400\n",
      "13/13 [==============================] - 0s 2ms/step - loss: 34.7727 - val_loss: 37.0166\n",
      "Epoch 75/400\n",
      "13/13 [==============================] - 0s 2ms/step - loss: 34.2248 - val_loss: 36.4265\n",
      "Epoch 76/400\n",
      "13/13 [==============================] - 0s 2ms/step - loss: 33.7096 - val_loss: 35.9396\n",
      "Epoch 77/400\n",
      "13/13 [==============================] - 0s 2ms/step - loss: 33.2798 - val_loss: 35.4633\n",
      "Epoch 78/400\n",
      "13/13 [==============================] - 0s 2ms/step - loss: 32.7288 - val_loss: 34.9244\n",
      "Epoch 79/400\n",
      "13/13 [==============================] - 0s 2ms/step - loss: 32.2738 - val_loss: 34.3747\n",
      "Epoch 80/400\n",
      "13/13 [==============================] - 0s 2ms/step - loss: 31.8003 - val_loss: 33.9795\n"
     ]
    },
    {
     "name": "stdout",
     "output_type": "stream",
     "text": [
      "Epoch 81/400\n",
      "13/13 [==============================] - 0s 2ms/step - loss: 31.4003 - val_loss: 33.5950\n",
      "Epoch 82/400\n",
      "13/13 [==============================] - 0s 2ms/step - loss: 30.9476 - val_loss: 33.1368\n",
      "Epoch 83/400\n",
      "13/13 [==============================] - 0s 2ms/step - loss: 30.5970 - val_loss: 32.6796\n",
      "Epoch 84/400\n",
      "13/13 [==============================] - 0s 2ms/step - loss: 30.1848 - val_loss: 32.5019\n",
      "Epoch 85/400\n",
      "13/13 [==============================] - 0s 2ms/step - loss: 29.7418 - val_loss: 31.9095\n",
      "Epoch 86/400\n",
      "13/13 [==============================] - 0s 2ms/step - loss: 29.3597 - val_loss: 31.5282\n",
      "Epoch 87/400\n",
      "13/13 [==============================] - 0s 2ms/step - loss: 29.0102 - val_loss: 31.3902\n",
      "Epoch 88/400\n",
      "13/13 [==============================] - 0s 2ms/step - loss: 28.6604 - val_loss: 30.7685\n",
      "Epoch 89/400\n",
      "13/13 [==============================] - 0s 2ms/step - loss: 28.4307 - val_loss: 30.3812\n",
      "Epoch 90/400\n",
      "13/13 [==============================] - 0s 2ms/step - loss: 27.9283 - val_loss: 30.1382\n",
      "Epoch 91/400\n",
      "13/13 [==============================] - 0s 2ms/step - loss: 27.6266 - val_loss: 29.9207\n",
      "Epoch 92/400\n",
      "13/13 [==============================] - 0s 2ms/step - loss: 27.3263 - val_loss: 29.5263\n",
      "Epoch 93/400\n",
      "13/13 [==============================] - 0s 2ms/step - loss: 26.9855 - val_loss: 29.2350\n",
      "Epoch 94/400\n",
      "13/13 [==============================] - 0s 2ms/step - loss: 26.7940 - val_loss: 28.7644\n",
      "Epoch 95/400\n",
      "13/13 [==============================] - 0s 2ms/step - loss: 26.4755 - val_loss: 28.5943\n",
      "Epoch 96/400\n",
      "13/13 [==============================] - 0s 2ms/step - loss: 26.1260 - val_loss: 28.3156\n",
      "Epoch 97/400\n",
      "13/13 [==============================] - 0s 2ms/step - loss: 25.8552 - val_loss: 28.0373\n",
      "Epoch 98/400\n",
      "13/13 [==============================] - 0s 2ms/step - loss: 25.6940 - val_loss: 27.7496\n",
      "Epoch 99/400\n",
      "13/13 [==============================] - 0s 2ms/step - loss: 25.3761 - val_loss: 27.6257\n",
      "Epoch 100/400\n",
      "13/13 [==============================] - 0s 2ms/step - loss: 25.1297 - val_loss: 27.2973\n",
      "Epoch 101/400\n",
      "13/13 [==============================] - 0s 2ms/step - loss: 24.9102 - val_loss: 27.0096\n",
      "Epoch 102/400\n",
      "13/13 [==============================] - 0s 2ms/step - loss: 24.6732 - val_loss: 26.9941\n",
      "Epoch 103/400\n",
      "13/13 [==============================] - 0s 2ms/step - loss: 24.4384 - val_loss: 26.7021\n",
      "Epoch 104/400\n",
      "13/13 [==============================] - 0s 2ms/step - loss: 24.2647 - val_loss: 26.5730\n",
      "Epoch 105/400\n",
      "13/13 [==============================] - 0s 2ms/step - loss: 24.0560 - val_loss: 26.3392\n",
      "Epoch 106/400\n",
      "13/13 [==============================] - 0s 2ms/step - loss: 23.9218 - val_loss: 26.1457\n",
      "Epoch 107/400\n",
      "13/13 [==============================] - 0s 2ms/step - loss: 23.9716 - val_loss: 25.7339\n",
      "Epoch 108/400\n",
      "13/13 [==============================] - 0s 2ms/step - loss: 23.4908 - val_loss: 26.0443\n",
      "Epoch 109/400\n",
      "13/13 [==============================] - 0s 2ms/step - loss: 23.5342 - val_loss: 25.5909\n",
      "Epoch 110/400\n",
      "13/13 [==============================] - 0s 2ms/step - loss: 23.2429 - val_loss: 25.4951\n",
      "Epoch 111/400\n",
      "13/13 [==============================] - 0s 2ms/step - loss: 23.0847 - val_loss: 25.7361\n",
      "Epoch 112/400\n",
      "13/13 [==============================] - 0s 2ms/step - loss: 23.0462 - val_loss: 25.1525\n",
      "Epoch 113/400\n",
      "13/13 [==============================] - 0s 2ms/step - loss: 22.8254 - val_loss: 25.1398\n",
      "Epoch 114/400\n",
      "13/13 [==============================] - 0s 2ms/step - loss: 22.6926 - val_loss: 25.1701\n",
      "Epoch 115/400\n",
      "13/13 [==============================] - 0s 2ms/step - loss: 22.6257 - val_loss: 24.8632\n",
      "Epoch 116/400\n",
      "13/13 [==============================] - 0s 2ms/step - loss: 22.6146 - val_loss: 25.1634\n",
      "Epoch 117/400\n",
      "13/13 [==============================] - 0s 2ms/step - loss: 22.4887 - val_loss: 24.6018\n",
      "Epoch 118/400\n",
      "13/13 [==============================] - 0s 2ms/step - loss: 22.2803 - val_loss: 24.5999\n",
      "Epoch 119/400\n",
      "13/13 [==============================] - 0s 2ms/step - loss: 22.1442 - val_loss: 24.3689\n",
      "Epoch 120/400\n",
      "13/13 [==============================] - 0s 2ms/step - loss: 22.0378 - val_loss: 24.5334\n",
      "Epoch 121/400\n",
      "13/13 [==============================] - 0s 2ms/step - loss: 21.9285 - val_loss: 24.1983\n",
      "Epoch 122/400\n",
      "13/13 [==============================] - 0s 2ms/step - loss: 21.8650 - val_loss: 24.3148\n",
      "Epoch 123/400\n",
      "13/13 [==============================] - 0s 2ms/step - loss: 21.8377 - val_loss: 24.0967\n",
      "Epoch 124/400\n",
      "13/13 [==============================] - 0s 2ms/step - loss: 21.5903 - val_loss: 24.2938\n",
      "Epoch 125/400\n",
      "13/13 [==============================] - 0s 2ms/step - loss: 21.5969 - val_loss: 24.3182\n",
      "Epoch 126/400\n",
      "13/13 [==============================] - 0s 2ms/step - loss: 21.4288 - val_loss: 24.0461\n",
      "Epoch 127/400\n",
      "13/13 [==============================] - 0s 2ms/step - loss: 21.4069 - val_loss: 24.1521\n",
      "Epoch 128/400\n",
      "13/13 [==============================] - 0s 2ms/step - loss: 21.3481 - val_loss: 24.1534\n",
      "Epoch 129/400\n",
      "13/13 [==============================] - 0s 2ms/step - loss: 21.2456 - val_loss: 24.1064\n",
      "Epoch 130/400\n",
      "13/13 [==============================] - 0s 2ms/step - loss: 21.1862 - val_loss: 24.0747\n",
      "Epoch 131/400\n",
      "13/13 [==============================] - 0s 2ms/step - loss: 21.1261 - val_loss: 24.0795\n"
     ]
    },
    {
     "data": {
      "text/plain": [
       "<keras.callbacks.History at 0x20cd9a11e80>"
      ]
     },
     "execution_count": 39,
     "metadata": {},
     "output_type": "execute_result"
    }
   ],
   "source": [
    "model = Sequential()\n",
    "\n",
    "model.add(Dense(units=13, activation='relu'))\n",
    "\n",
    "model.add(Dense(units=7, activation='relu'))\n",
    "\n",
    "model.add(Dense(units=1))\n",
    "\n",
    "model.compile(optimizer='adam', loss='mse')\n",
    "\n",
    "early_stop = EarlyStopping(monitor='val_loss', patience=5)\n",
    "\n",
    "model.fit(x=x_train, y=y_train, validation_data=(x_test, y_test), epochs=400, callbacks=[early_stop])"
   ]
  },
  {
   "cell_type": "code",
   "execution_count": 40,
   "id": "19d0e87b",
   "metadata": {},
   "outputs": [
    {
     "data": {
      "text/plain": [
       "<AxesSubplot:>"
      ]
     },
     "execution_count": 40,
     "metadata": {},
     "output_type": "execute_result"
    },
    {
     "data": {
      "image/png": "[encoded data removed]",
      "text/plain": [
       "<Figure size 432x288 with 1 Axes>"
      ]
     },
     "metadata": {
      "needs_background": "light"
     },
     "output_type": "display_data"
    }
   ],
   "source": [
    "losses = pd.DataFrame(model.history.history)\n",
    "losses.plot()"
   ]
  },
  {
   "cell_type": "code",
   "execution_count": 41,
   "id": "7c8cd3c6",
   "metadata": {},
   "outputs": [
    {
     "data": {
      "text/plain": [
       "3.5488654697642605"
      ]
     },
     "execution_count": 41,
     "metadata": {},
     "output_type": "execute_result"
    }
   ],
   "source": [
    "predictions = model.predict(x_test)\n",
    "mean_absolute_error(y_test, predictions)"
   ]
  },
  {
   "cell_type": "code",
   "execution_count": 42,
   "id": "4269263d",
   "metadata": {},
   "outputs": [
    {
     "data": {
      "text/plain": [
       "4.907084104704141"
      ]
     },
     "execution_count": 42,
     "metadata": {},
     "output_type": "execute_result"
    }
   ],
   "source": [
    "np.sqrt(mean_squared_error(y_test, predictions))"
   ]
  },
  {
   "cell_type": "code",
   "execution_count": null,
   "id": "b66a2e7c",
   "metadata": {},
   "outputs": [],
   "source": []
  }
 ],
 "metadata": {
  "kernelspec": {
   "display_name": "Python 3 (ipykernel)",
   "language": "python",
   "name": "python3"
  },
  "language_info": {
   "codemirror_mode": {
    "name": "ipython",
    "version": 3
   },
   "file_extension": ".py",
   "mimetype": "text/x-python",
   "name": "python",
   "nbconvert_exporter": "python",
   "pygments_lexer": "ipython3",
   "version": "3.9.7"
  }
 },
 "nbformat": 4,
 "nbformat_minor": 5
}
