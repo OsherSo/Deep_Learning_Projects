{
 "cells": [
  {
   "cell_type": "code",
   "execution_count": 1,
   "id": "9d3ffe39",
   "metadata": {},
   "outputs": [
    {
     "name": "stdout",
     "output_type": "stream",
     "text": [
      "7\n"
     ]
    },
    {
     "data": {
      "text/html": [
       "<div>\n",
       "<style scoped>\n",
       "    .dataframe tbody tr th:only-of-type {\n",
       "        vertical-align: middle;\n",
       "    }\n",
       "\n",
       "    .dataframe tbody tr th {\n",
       "        vertical-align: top;\n",
       "    }\n",
       "\n",
       "    .dataframe thead th {\n",
       "        text-align: right;\n",
       "    }\n",
       "</style>\n",
       "<table border=\"1\" class=\"dataframe\">\n",
       "  <thead>\n",
       "    <tr style=\"text-align: right;\">\n",
       "      <th></th>\n",
       "      <th>Date</th>\n",
       "      <th>HomeTeam</th>\n",
       "      <th>AwayTeam</th>\n",
       "      <th>FTHG</th>\n",
       "      <th>FTAG</th>\n",
       "      <th>B365CH</th>\n",
       "      <th>B365CD</th>\n",
       "      <th>B365CA</th>\n",
       "      <th>B365C&gt;2.5</th>\n",
       "      <th>B365C&lt;2.5</th>\n",
       "      <th>target</th>\n",
       "    </tr>\n",
       "  </thead>\n",
       "  <tbody>\n",
       "    <tr>\n",
       "      <th>6575</th>\n",
       "      <td>2022-03-20</td>\n",
       "      <td>Bordeaux</td>\n",
       "      <td>Montpellier</td>\n",
       "      <td>0</td>\n",
       "      <td>2</td>\n",
       "      <td>2.45</td>\n",
       "      <td>3.40</td>\n",
       "      <td>2.87</td>\n",
       "      <td>1.92</td>\n",
       "      <td>1.98</td>\n",
       "      <td>0</td>\n",
       "    </tr>\n",
       "    <tr>\n",
       "      <th>6576</th>\n",
       "      <td>2022-03-20</td>\n",
       "      <td>Lorient</td>\n",
       "      <td>Strasbourg</td>\n",
       "      <td>0</td>\n",
       "      <td>0</td>\n",
       "      <td>3.40</td>\n",
       "      <td>3.30</td>\n",
       "      <td>2.20</td>\n",
       "      <td>2.37</td>\n",
       "      <td>1.57</td>\n",
       "      <td>0</td>\n",
       "    </tr>\n",
       "    <tr>\n",
       "      <th>6577</th>\n",
       "      <td>2022-03-20</td>\n",
       "      <td>Rennes</td>\n",
       "      <td>Metz</td>\n",
       "      <td>6</td>\n",
       "      <td>1</td>\n",
       "      <td>1.25</td>\n",
       "      <td>5.75</td>\n",
       "      <td>13.00</td>\n",
       "      <td>1.66</td>\n",
       "      <td>2.20</td>\n",
       "      <td>1</td>\n",
       "    </tr>\n",
       "    <tr>\n",
       "      <th>6578</th>\n",
       "      <td>2022-03-20</td>\n",
       "      <td>Reims</td>\n",
       "      <td>Lyon</td>\n",
       "      <td>0</td>\n",
       "      <td>0</td>\n",
       "      <td>4.20</td>\n",
       "      <td>3.60</td>\n",
       "      <td>1.85</td>\n",
       "      <td>1.99</td>\n",
       "      <td>1.91</td>\n",
       "      <td>0</td>\n",
       "    </tr>\n",
       "    <tr>\n",
       "      <th>6579</th>\n",
       "      <td>2022-03-20</td>\n",
       "      <td>Marseille</td>\n",
       "      <td>Nice</td>\n",
       "      <td>2</td>\n",
       "      <td>1</td>\n",
       "      <td>1.90</td>\n",
       "      <td>3.50</td>\n",
       "      <td>4.20</td>\n",
       "      <td>2.01</td>\n",
       "      <td>1.89</td>\n",
       "      <td>1</td>\n",
       "    </tr>\n",
       "    <tr>\n",
       "      <th>6580</th>\n",
       "      <td>2022-03-20</td>\n",
       "      <td>Gil Vicente</td>\n",
       "      <td>Maritimo</td>\n",
       "      <td>1</td>\n",
       "      <td>1</td>\n",
       "      <td>1.66</td>\n",
       "      <td>3.60</td>\n",
       "      <td>5.00</td>\n",
       "      <td>2.00</td>\n",
       "      <td>1.85</td>\n",
       "      <td>0</td>\n",
       "    </tr>\n",
       "    <tr>\n",
       "      <th>6581</th>\n",
       "      <td>2022-03-20</td>\n",
       "      <td>Pacos Ferreira</td>\n",
       "      <td>Moreirense</td>\n",
       "      <td>2</td>\n",
       "      <td>1</td>\n",
       "      <td>2.40</td>\n",
       "      <td>3.20</td>\n",
       "      <td>2.90</td>\n",
       "      <td>2.40</td>\n",
       "      <td>1.53</td>\n",
       "      <td>1</td>\n",
       "    </tr>\n",
       "    <tr>\n",
       "      <th>6582</th>\n",
       "      <td>2022-03-20</td>\n",
       "      <td>Benfica</td>\n",
       "      <td>Estoril</td>\n",
       "      <td>2</td>\n",
       "      <td>1</td>\n",
       "      <td>1.33</td>\n",
       "      <td>4.75</td>\n",
       "      <td>9.00</td>\n",
       "      <td>1.57</td>\n",
       "      <td>2.35</td>\n",
       "      <td>1</td>\n",
       "    </tr>\n",
       "    <tr>\n",
       "      <th>6583</th>\n",
       "      <td>2022-03-20</td>\n",
       "      <td>Boavista</td>\n",
       "      <td>Porto</td>\n",
       "      <td>0</td>\n",
       "      <td>1</td>\n",
       "      <td>8.50</td>\n",
       "      <td>4.75</td>\n",
       "      <td>1.33</td>\n",
       "      <td>1.66</td>\n",
       "      <td>2.15</td>\n",
       "      <td>0</td>\n",
       "    </tr>\n",
       "    <tr>\n",
       "      <th>6584</th>\n",
       "      <td>2022-03-20</td>\n",
       "      <td>Willem II</td>\n",
       "      <td>AZ Alkmaar</td>\n",
       "      <td>2</td>\n",
       "      <td>2</td>\n",
       "      <td>5.50</td>\n",
       "      <td>4.00</td>\n",
       "      <td>1.61</td>\n",
       "      <td>2.05</td>\n",
       "      <td>1.80</td>\n",
       "      <td>0</td>\n",
       "    </tr>\n",
       "  </tbody>\n",
       "</table>\n",
       "</div>"
      ],
      "text/plain": [
       "           Date        HomeTeam     AwayTeam  FTHG  FTAG  B365CH  B365CD  \\\n",
       "6575 2022-03-20        Bordeaux  Montpellier     0     2    2.45    3.40   \n",
       "6576 2022-03-20         Lorient   Strasbourg     0     0    3.40    3.30   \n",
       "6577 2022-03-20          Rennes         Metz     6     1    1.25    5.75   \n",
       "6578 2022-03-20           Reims         Lyon     0     0    4.20    3.60   \n",
       "6579 2022-03-20       Marseille         Nice     2     1    1.90    3.50   \n",
       "6580 2022-03-20     Gil Vicente     Maritimo     1     1    1.66    3.60   \n",
       "6581 2022-03-20  Pacos Ferreira   Moreirense     2     1    2.40    3.20   \n",
       "6582 2022-03-20         Benfica      Estoril     2     1    1.33    4.75   \n",
       "6583 2022-03-20        Boavista        Porto     0     1    8.50    4.75   \n",
       "6584 2022-03-20       Willem II   AZ Alkmaar     2     2    5.50    4.00   \n",
       "\n",
       "      B365CA  B365C>2.5  B365C<2.5  target  \n",
       "6575    2.87       1.92       1.98       0  \n",
       "6576    2.20       2.37       1.57       0  \n",
       "6577   13.00       1.66       2.20       1  \n",
       "6578    1.85       1.99       1.91       0  \n",
       "6579    4.20       2.01       1.89       1  \n",
       "6580    5.00       2.00       1.85       0  \n",
       "6581    2.90       2.40       1.53       1  \n",
       "6582    9.00       1.57       2.35       1  \n",
       "6583    1.33       1.66       2.15       0  \n",
       "6584    1.61       2.05       1.80       0  "
      ]
     },
     "execution_count": 1,
     "metadata": {},
     "output_type": "execute_result"
    }
   ],
   "source": [
    "import numpy as np\n",
    "import pandas as pd\n",
    "\n",
    "from sklearn.preprocessing import MinMaxScaler\n",
    "from sklearn.linear_model import LogisticRegression\n",
    "from sklearn.metrics import classification_report\n",
    "\n",
    "data = [\n",
    "    # England\n",
    "    \"https://www.football-data.co.uk/mmz4281/1920/E0.csv\",\n",
    "    \"https://www.football-data.co.uk/mmz4281/2021/E0.csv\",\n",
    "    \"https://www.football-data.co.uk/mmz4281/2122/E0.csv\",\n",
    "    # Spain\n",
    "    \"https://www.football-data.co.uk/mmz4281/1920/SP1.csv\",\n",
    "    \"https://www.football-data.co.uk/mmz4281/2021/SP1.csv\",\n",
    "    \"https://www.football-data.co.uk/mmz4281/2122/SP1.csv\",\n",
    "    # Germany\n",
    "    \"https://www.football-data.co.uk/mmz4281/1920/D1.csv\",\n",
    "    \"https://www.football-data.co.uk/mmz4281/2021/D1.csv\",\n",
    "    \"https://www.football-data.co.uk/mmz4281/2122/D1.csv\",\n",
    "    # Italy\n",
    "    \"https://www.football-data.co.uk/mmz4281/1920/I1.csv\",\n",
    "    \"https://www.football-data.co.uk/mmz4281/2021/I1.csv\",\n",
    "    \"https://www.football-data.co.uk/mmz4281/2122/I1.csv\",\n",
    "    # France\n",
    "    \"https://www.football-data.co.uk/mmz4281/1920/F1.csv\",\n",
    "    \"https://www.football-data.co.uk/mmz4281/2021/F1.csv\",\n",
    "    \"https://www.football-data.co.uk/mmz4281/2122/F1.csv\",\n",
    "    # Portugal\n",
    "    \"https://www.football-data.co.uk/mmz4281/1920/P1.csv\",\n",
    "    \"https://www.football-data.co.uk/mmz4281/2021/P1.csv\",\n",
    "    \"https://www.football-data.co.uk/mmz4281/2122/P1.csv\",\n",
    "    # Holland\n",
    "    \"https://www.football-data.co.uk/mmz4281/1920/N1.csv\",\n",
    "    \"https://www.football-data.co.uk/mmz4281/2021/N1.csv\",\n",
    "    \"https://www.football-data.co.uk/mmz4281/2122/N1.csv\",\n",
    "]\n",
    "\n",
    "def target(FTHG, FTAG):\n",
    "    if (FTHG > FTAG):\n",
    "        return 1\n",
    "    return 0\n",
    "\n",
    "li = []\n",
    "\n",
    "for leauge in data:\n",
    "    df = pd.read_csv(leauge)\n",
    "    li.append(df)\n",
    "\n",
    "df = pd.concat(li)\n",
    "\n",
    "df = df[[\"Date\", \"HomeTeam\", \"AwayTeam\", \"FTHG\", \"FTAG\", \"B365CH\", \"B365CD\", \"B365CA\", \"B365C>2.5\", \"B365C<2.5\"]]\n",
    "\n",
    "print(df.isnull().sum().sum())\n",
    "df = df.dropna()\n",
    "\n",
    "df[\"Date\"] = pd.to_datetime(df[\"Date\"], dayfirst=True)\n",
    "df = df.sort_values(\"Date\")\n",
    "\n",
    "df[\"target\"] = np.vectorize(target)(df[\"FTHG\"], df[\"FTAG\"])\n",
    "\n",
    "df = df.reset_index(drop=True)\n",
    "\n",
    "df.tail(10)"
   ]
  },
  {
   "cell_type": "code",
   "execution_count": 2,
   "id": "2bfde0e8",
   "metadata": {},
   "outputs": [
    {
     "name": "stdout",
     "output_type": "stream",
     "text": [
      "(5268, 333) (5268,) (1317, 333) (1317,)\n",
      "(658, 333) (658,) (659, 333) (659,)\n"
     ]
    }
   ],
   "source": [
    "team_data = pd.get_dummies(df[[\"HomeTeam\", \"AwayTeam\"]])\n",
    "odds = df[[\"B365CH\", \"B365CD\", \"B365CA\", \"B365C>2.5\", \"B365C<2.5\"]]\n",
    "\n",
    "X = pd.concat([team_data, odds], axis=1)\n",
    "y = df[\"target\"]\n",
    "\n",
    "test_size_1 = int(0.8 * len(X))\n",
    "\n",
    "X_train = X[:test_size_1]\n",
    "y_train = y[:test_size_1]\n",
    "\n",
    "X_other = X[test_size_1:]\n",
    "y_other = y[test_size_1:]\n",
    "\n",
    "print(X_train.shape, y_train.shape, X_other.shape, y_other.shape)\n",
    "\n",
    "test_size_2 = int(0.5 * len(X_other))\n",
    "\n",
    "X_val = X_other[:test_size_2]\n",
    "y_val = y_other[:test_size_2]\n",
    "\n",
    "X_test = X_other[test_size_2:]\n",
    "y_test = y_other[test_size_2:]\n",
    "\n",
    "print(X_val.shape, y_val.shape, X_test.shape, y_test.shape)\n",
    "\n",
    "scaler = MinMaxScaler()\n",
    "X_train = scaler.fit_transform(X_train)\n",
    "X_val = scaler.transform(X_val)\n",
    "X_test = scaler.transform(X_test)"
   ]
  },
  {
   "cell_type": "code",
   "execution_count": 3,
   "id": "acde9e56",
   "metadata": {},
   "outputs": [
    {
     "name": "stdout",
     "output_type": "stream",
     "text": [
      "62.0\n",
      "0.062\n",
      "0.6884498480243161\n"
     ]
    }
   ],
   "source": [
    "start = 0.001\n",
    "end = 0.5\n",
    "jump = 0.001\n",
    "\n",
    "scores = []\n",
    "for c in np.arange(start, end + jump, jump):\n",
    "    model = LogisticRegression(C=c)\n",
    "    model.fit(X_train, y_train);\n",
    "    score = model.score(X_val, y_val)\n",
    "    scores.append(score)\n",
    "    \n",
    "best_index = np.argmax(scores)\n",
    "\n",
    "print(best_index + (start / jump))\n",
    "print((best_index + (start / jump)) * jump)\n",
    "print(scores[best_index])"
   ]
  },
  {
   "cell_type": "code",
   "execution_count": 4,
   "id": "e989d7aa",
   "metadata": {},
   "outputs": [
    {
     "name": "stdout",
     "output_type": "stream",
     "text": [
      "              precision    recall  f1-score   support\n",
      "\n",
      "           0       0.68      0.89      0.77       381\n",
      "           1       0.73      0.42      0.53       277\n",
      "\n",
      "    accuracy                           0.69       658\n",
      "   macro avg       0.70      0.65      0.65       658\n",
      "weighted avg       0.70      0.69      0.67       658\n",
      "\n"
     ]
    },
    {
     "data": {
      "text/plain": [
       "0    0.579027\n",
       "1    0.420973\n",
       "Name: target, dtype: float64"
      ]
     },
     "execution_count": 4,
     "metadata": {},
     "output_type": "execute_result"
    }
   ],
   "source": [
    "model = LogisticRegression(C=0.062)\n",
    "model.fit(X_train, y_train);\n",
    "\n",
    "print(classification_report(y_val, model.predict(X_val)))\n",
    "\n",
    "y_val.value_counts() / len(y_val)"
   ]
  },
  {
   "cell_type": "code",
   "execution_count": 5,
   "id": "60a33435",
   "metadata": {},
   "outputs": [
    {
     "name": "stdout",
     "output_type": "stream",
     "text": [
      "              precision    recall  f1-score   support\n",
      "\n",
      "           0       0.67      0.90      0.77       385\n",
      "           1       0.73      0.37      0.49       274\n",
      "\n",
      "    accuracy                           0.68       659\n",
      "   macro avg       0.70      0.64      0.63       659\n",
      "weighted avg       0.69      0.68      0.65       659\n",
      "\n"
     ]
    },
    {
     "data": {
      "text/plain": [
       "0    0.584219\n",
       "1    0.415781\n",
       "Name: target, dtype: float64"
      ]
     },
     "execution_count": 5,
     "metadata": {},
     "output_type": "execute_result"
    }
   ],
   "source": [
    "print(classification_report(y_test, model.predict(X_test)))\n",
    "\n",
    "y_test.value_counts() / len(y_test)"
   ]
  },
  {
   "cell_type": "code",
   "execution_count": 6,
   "id": "fcd890c1",
   "metadata": {},
   "outputs": [],
   "source": [
    "test = pd.DataFrame(columns=team_data.columns, data=np.zeros(len(team_data.columns)).reshape(1, len(team_data.columns)))"
   ]
  },
  {
   "cell_type": "code",
   "execution_count": 7,
   "id": "87df4421",
   "metadata": {},
   "outputs": [
    {
     "data": {
      "text/plain": [
       "array([[0.54363624, 0.45636376]])"
      ]
     },
     "execution_count": 7,
     "metadata": {},
     "output_type": "execute_result"
    }
   ],
   "source": [
    "test[\"HomeTeam_Man United\"] = 1\n",
    "test[\"AwayTeam_Leicester\"] = 1\n",
    "\n",
    "test[\"B365CH\"] = 1.53\n",
    "test[\"B365CD\"] = 4.33\n",
    "test[\"B365CA\"] = 5.5\n",
    "test[\"B365C>2.5\"] = 1.53\n",
    "test[\"B365C<2.5\"] = 2.5\n",
    "\n",
    "test = scaler.transform(test)\n",
    "\n",
    "model.predict_proba(test)"
   ]
  },
  {
   "cell_type": "code",
   "execution_count": 23,
   "id": "6de06718",
   "metadata": {},
   "outputs": [
    {
     "data": {
      "text/plain": [
       "array([[1.38681538, 3.58521264]])"
      ]
     },
     "execution_count": 23,
     "metadata": {},
     "output_type": "execute_result"
    }
   ],
   "source": [
    "1 / model.predict_proba(test)"
   ]
  },
  {
   "cell_type": "code",
   "execution_count": null,
   "id": "2a01ef68",
   "metadata": {},
   "outputs": [],
   "source": []
  }
 ],
 "metadata": {
  "kernelspec": {
   "display_name": "Python 3 (ipykernel)",
   "language": "python",
   "name": "python3"
  },
  "language_info": {
   "codemirror_mode": {
    "name": "ipython",
    "version": 3
   },
   "file_extension": ".py",
   "mimetype": "text/x-python",
   "name": "python",
   "nbconvert_exporter": "python",
   "pygments_lexer": "ipython3",
   "version": "3.9.7"
  }
 },
 "nbformat": 4,
 "nbformat_minor": 5
}
