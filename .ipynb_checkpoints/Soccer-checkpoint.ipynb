{
 "cells": [
  {
   "cell_type": "code",
   "execution_count": 1,
   "id": "9d3ffe39",
   "metadata": {},
   "outputs": [
    {
     "name": "stdout",
     "output_type": "stream",
     "text": [
      "0\n"
     ]
    },
    {
     "data": {
      "text/html": [
       "<div>\n",
       "<style scoped>\n",
       "    .dataframe tbody tr th:only-of-type {\n",
       "        vertical-align: middle;\n",
       "    }\n",
       "\n",
       "    .dataframe tbody tr th {\n",
       "        vertical-align: top;\n",
       "    }\n",
       "\n",
       "    .dataframe thead th {\n",
       "        text-align: right;\n",
       "    }\n",
       "</style>\n",
       "<table border=\"1\" class=\"dataframe\">\n",
       "  <thead>\n",
       "    <tr style=\"text-align: right;\">\n",
       "      <th></th>\n",
       "      <th>Date</th>\n",
       "      <th>HomeTeam</th>\n",
       "      <th>AwayTeam</th>\n",
       "      <th>FTHG</th>\n",
       "      <th>FTAG</th>\n",
       "      <th>B365CH</th>\n",
       "      <th>B365CD</th>\n",
       "      <th>B365CA</th>\n",
       "      <th>B365C&gt;2.5</th>\n",
       "      <th>B365C&lt;2.5</th>\n",
       "      <th>target</th>\n",
       "    </tr>\n",
       "  </thead>\n",
       "  <tbody>\n",
       "    <tr>\n",
       "      <th>1039</th>\n",
       "      <td>13/03/2022</td>\n",
       "      <td>Arsenal</td>\n",
       "      <td>Leicester</td>\n",
       "      <td>2</td>\n",
       "      <td>0</td>\n",
       "      <td>1.4</td>\n",
       "      <td>4.75</td>\n",
       "      <td>7.00</td>\n",
       "      <td>1.66</td>\n",
       "      <td>2.20</td>\n",
       "      <td>1</td>\n",
       "    </tr>\n",
       "    <tr>\n",
       "      <th>1040</th>\n",
       "      <td>14/03/2022</td>\n",
       "      <td>Crystal Palace</td>\n",
       "      <td>Man City</td>\n",
       "      <td>0</td>\n",
       "      <td>0</td>\n",
       "      <td>9.0</td>\n",
       "      <td>5.25</td>\n",
       "      <td>1.33</td>\n",
       "      <td>1.66</td>\n",
       "      <td>2.20</td>\n",
       "      <td>0</td>\n",
       "    </tr>\n",
       "    <tr>\n",
       "      <th>1041</th>\n",
       "      <td>16/03/2022</td>\n",
       "      <td>Brighton</td>\n",
       "      <td>Tottenham</td>\n",
       "      <td>0</td>\n",
       "      <td>2</td>\n",
       "      <td>3.5</td>\n",
       "      <td>3.40</td>\n",
       "      <td>2.10</td>\n",
       "      <td>2.10</td>\n",
       "      <td>1.72</td>\n",
       "      <td>0</td>\n",
       "    </tr>\n",
       "    <tr>\n",
       "      <th>1042</th>\n",
       "      <td>16/03/2022</td>\n",
       "      <td>Arsenal</td>\n",
       "      <td>Liverpool</td>\n",
       "      <td>0</td>\n",
       "      <td>2</td>\n",
       "      <td>3.5</td>\n",
       "      <td>3.75</td>\n",
       "      <td>2.00</td>\n",
       "      <td>1.72</td>\n",
       "      <td>2.10</td>\n",
       "      <td>0</td>\n",
       "    </tr>\n",
       "    <tr>\n",
       "      <th>1043</th>\n",
       "      <td>17/03/2022</td>\n",
       "      <td>Everton</td>\n",
       "      <td>Newcastle</td>\n",
       "      <td>1</td>\n",
       "      <td>0</td>\n",
       "      <td>2.4</td>\n",
       "      <td>3.25</td>\n",
       "      <td>3.10</td>\n",
       "      <td>2.20</td>\n",
       "      <td>1.66</td>\n",
       "      <td>1</td>\n",
       "    </tr>\n",
       "  </tbody>\n",
       "</table>\n",
       "</div>"
      ],
      "text/plain": [
       "            Date        HomeTeam   AwayTeam  FTHG  FTAG  B365CH  B365CD  \\\n",
       "1039  13/03/2022         Arsenal  Leicester     2     0     1.4    4.75   \n",
       "1040  14/03/2022  Crystal Palace   Man City     0     0     9.0    5.25   \n",
       "1041  16/03/2022        Brighton  Tottenham     0     2     3.5    3.40   \n",
       "1042  16/03/2022         Arsenal  Liverpool     0     2     3.5    3.75   \n",
       "1043  17/03/2022         Everton  Newcastle     1     0     2.4    3.25   \n",
       "\n",
       "      B365CA  B365C>2.5  B365C<2.5  target  \n",
       "1039    7.00       1.66       2.20       1  \n",
       "1040    1.33       1.66       2.20       0  \n",
       "1041    2.10       2.10       1.72       0  \n",
       "1042    2.00       1.72       2.10       0  \n",
       "1043    3.10       2.20       1.66       1  "
      ]
     },
     "execution_count": 1,
     "metadata": {},
     "output_type": "execute_result"
    }
   ],
   "source": [
    "import numpy as np\n",
    "import pandas as pd\n",
    "\n",
    "from sklearn.ensemble import RandomForestClassifier\n",
    "from sklearn.metrics import classification_report\n",
    "\n",
    "def target(FTHG, FTAG):\n",
    "    if (FTHG > FTAG):\n",
    "        return 1\n",
    "    return 0\n",
    "\n",
    "leauge = \"E0\"\n",
    "\n",
    "data = [\n",
    "    f\"https://www.football-data.co.uk/mmz4281/1920/{leauge}.csv\",\n",
    "    f\"https://www.football-data.co.uk/mmz4281/2021/{leauge}.csv\",\n",
    "    f\"https://www.football-data.co.uk/mmz4281/2122/{leauge}.csv\"\n",
    "]\n",
    "\n",
    "li = []\n",
    "\n",
    "for leauge in data:\n",
    "    df = pd.read_csv(leauge)\n",
    "    li.append(df)\n",
    "\n",
    "df = pd.concat(li)\n",
    "\n",
    "df = df[[\"Date\", \"HomeTeam\", \"AwayTeam\", \"FTHG\", \"FTAG\", \"B365CH\", \"B365CD\", \"B365CA\", \"B365C>2.5\", \"B365C<2.5\"]]\n",
    "df[\"target\"] = np.vectorize(target)(df[\"FTHG\"], df[\"FTAG\"])\n",
    "df = df.reset_index(drop=True)\n",
    "\n",
    "print(df.isnull().sum().sum())\n",
    "df = df.dropna()\n",
    "\n",
    "df.tail()"
   ]
  },
  {
   "cell_type": "code",
   "execution_count": 2,
   "id": "2bfde0e8",
   "metadata": {},
   "outputs": [
    {
     "name": "stdout",
     "output_type": "stream",
     "text": [
      "(730, 53) (314, 53) (730,) (314,)\n",
      "(157, 53) (157, 53) (157,) (157,)\n"
     ]
    }
   ],
   "source": [
    "team_data = pd.get_dummies(df[[\"HomeTeam\", \"AwayTeam\"]])\n",
    "odds = df[[\"B365CH\", \"B365CD\", \"B365CA\", \"B365C>2.5\", \"B365C<2.5\"]]\n",
    "\n",
    "X = pd.concat([team_data, odds], axis=1)\n",
    "y = df[\"target\"]\n",
    "\n",
    "test_size_1 = 0.7\n",
    "test_size_2 = 0.5\n",
    "\n",
    "X_train = X[:int(test_size_1 * (len(X)))]\n",
    "X_other = X[int(test_size_1 * (len(X))):]\n",
    "\n",
    "y_train = y[:int(test_size_1 * (len(y)))]\n",
    "y_other = y[int(test_size_1 * (len(y))):]\n",
    "\n",
    "print(X_train.shape, X_other.shape, y_train.shape, y_other.shape)\n",
    "\n",
    "X_val = X_other[:int(test_size_2 * (len(X_other)))]\n",
    "X_test = X_other[int(test_size_2 * (len(X_other))):]\n",
    "\n",
    "y_val = y_other[:int(test_size_2 * (len(y_other)))]\n",
    "y_test = y_other[int(test_size_2 * (len(y_other))):]\n",
    "\n",
    "print(X_val.shape, X_test.shape, y_val.shape, y_test.shape)"
   ]
  },
  {
   "cell_type": "code",
   "execution_count": 3,
   "id": "acde9e56",
   "metadata": {},
   "outputs": [
    {
     "name": "stdout",
     "output_type": "stream",
     "text": [
      "24\n"
     ]
    }
   ],
   "source": [
    "scores = []\n",
    "for i in np.arange(1, 301, 1):\n",
    "    model = RandomForestClassifier(random_state=101, n_estimators=i)\n",
    "    model.fit(X_train, y_train);\n",
    "    score = model.score(X_val, y_val)\n",
    "    scores.append(score)\n",
    "    \n",
    "print(np.argmax(scores) + 1)"
   ]
  },
  {
   "cell_type": "code",
   "execution_count": 4,
   "id": "e989d7aa",
   "metadata": {},
   "outputs": [
    {
     "name": "stdout",
     "output_type": "stream",
     "text": [
      "              precision    recall  f1-score   support\n",
      "\n",
      "           0       0.74      0.77      0.76        92\n",
      "           1       0.66      0.62      0.63        65\n",
      "\n",
      "    accuracy                           0.71       157\n",
      "   macro avg       0.70      0.69      0.70       157\n",
      "weighted avg       0.70      0.71      0.71       157\n",
      "\n"
     ]
    }
   ],
   "source": [
    "model = RandomForestClassifier(random_state=101, n_estimators=24)\n",
    "model.fit(X_train, y_train);\n",
    "print(classification_report(y_val, model.predict(X_val)))"
   ]
  },
  {
   "cell_type": "code",
   "execution_count": 5,
   "id": "d87a4daa",
   "metadata": {},
   "outputs": [
    {
     "data": {
      "text/plain": [
       "0    0.585987\n",
       "1    0.414013\n",
       "Name: target, dtype: float64"
      ]
     },
     "execution_count": 5,
     "metadata": {},
     "output_type": "execute_result"
    }
   ],
   "source": [
    "y_val.value_counts() / len(X_val)"
   ]
  },
  {
   "cell_type": "code",
   "execution_count": 6,
   "id": "60a33435",
   "metadata": {},
   "outputs": [
    {
     "name": "stdout",
     "output_type": "stream",
     "text": [
      "              precision    recall  f1-score   support\n",
      "\n",
      "           0       0.68      0.80      0.73        91\n",
      "           1       0.63      0.47      0.54        66\n",
      "\n",
      "    accuracy                           0.66       157\n",
      "   macro avg       0.65      0.64      0.64       157\n",
      "weighted avg       0.66      0.66      0.65       157\n",
      "\n"
     ]
    }
   ],
   "source": [
    "print(classification_report(y_test, model.predict(X_test)))"
   ]
  },
  {
   "cell_type": "code",
   "execution_count": 8,
   "id": "3ec8365c",
   "metadata": {},
   "outputs": [
    {
     "data": {
      "text/plain": [
       "0    0.579618\n",
       "1    0.420382\n",
       "Name: target, dtype: float64"
      ]
     },
     "execution_count": 8,
     "metadata": {},
     "output_type": "execute_result"
    }
   ],
   "source": [
    "y_test.value_counts() / len(X_test)"
   ]
  },
  {
   "cell_type": "code",
   "execution_count": 13,
   "id": "fcd890c1",
   "metadata": {},
   "outputs": [],
   "source": [
    "test = pd.DataFrame(columns=team_data.columns, data=np.zeros(len(team_data.columns)).reshape(1, len(team_data.columns)))"
   ]
  },
  {
   "cell_type": "code",
   "execution_count": 49,
   "id": "87df4421",
   "metadata": {},
   "outputs": [
    {
     "data": {
      "text/plain": [
       "array([[0.64220183, 0.28440367, 0.0733945 ]])"
      ]
     },
     "execution_count": 49,
     "metadata": {},
     "output_type": "execute_result"
    }
   ],
   "source": [
    "test[\"HomeTeam_Napoli\"] = 1\n",
    "test[\"AwayTeam_Udinese\"] = 1\n",
    "\n",
    "test[\"B365CH\"] = 1.53\n",
    "test[\"B365CD\"] = 4.2\n",
    "test[\"B365CA\"] = 6\n",
    "test[\"B365C>2.5\"] = 1.84\n",
    "test[\"B365C<2.5\"] = 2.06\n",
    "\n",
    "model.predict_proba(test)"
   ]
  },
  {
   "cell_type": "code",
   "execution_count": 50,
   "id": "6de06718",
   "metadata": {},
   "outputs": [
    {
     "data": {
      "text/plain": [
       "array([[ 1.55714286,  3.51612903, 13.625     ]])"
      ]
     },
     "execution_count": 50,
     "metadata": {},
     "output_type": "execute_result"
    }
   ],
   "source": [
    "1 / model.predict_proba(test)"
   ]
  },
  {
   "cell_type": "code",
   "execution_count": null,
   "id": "2d77997c",
   "metadata": {},
   "outputs": [],
   "source": []
  }
 ],
 "metadata": {
  "kernelspec": {
   "display_name": "Python 3 (ipykernel)",
   "language": "python",
   "name": "python3"
  },
  "language_info": {
   "codemirror_mode": {
    "name": "ipython",
    "version": 3
   },
   "file_extension": ".py",
   "mimetype": "text/x-python",
   "name": "python",
   "nbconvert_exporter": "python",
   "pygments_lexer": "ipython3",
   "version": "3.9.7"
  }
 },
 "nbformat": 4,
 "nbformat_minor": 5
}
