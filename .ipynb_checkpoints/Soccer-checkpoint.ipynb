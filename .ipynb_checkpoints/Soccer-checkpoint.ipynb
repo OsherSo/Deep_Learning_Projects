{
 "cells": [
  {
   "cell_type": "code",
   "execution_count": 2,
   "id": "9d3ffe39",
   "metadata": {},
   "outputs": [
    {
     "name": "stdout",
     "output_type": "stream",
     "text": [
      "2\n"
     ]
    },
    {
     "data": {
      "text/html": [
       "<div>\n",
       "<style scoped>\n",
       "    .dataframe tbody tr th:only-of-type {\n",
       "        vertical-align: middle;\n",
       "    }\n",
       "\n",
       "    .dataframe tbody tr th {\n",
       "        vertical-align: top;\n",
       "    }\n",
       "\n",
       "    .dataframe thead th {\n",
       "        text-align: right;\n",
       "    }\n",
       "</style>\n",
       "<table border=\"1\" class=\"dataframe\">\n",
       "  <thead>\n",
       "    <tr style=\"text-align: right;\">\n",
       "      <th></th>\n",
       "      <th>Date</th>\n",
       "      <th>HomeTeam</th>\n",
       "      <th>AwayTeam</th>\n",
       "      <th>FTHG</th>\n",
       "      <th>FTAG</th>\n",
       "      <th>B365CH</th>\n",
       "      <th>B365CD</th>\n",
       "      <th>B365CA</th>\n",
       "      <th>B365C&gt;2.5</th>\n",
       "      <th>B365C&lt;2.5</th>\n",
       "      <th>target</th>\n",
       "    </tr>\n",
       "  </thead>\n",
       "  <tbody>\n",
       "    <tr>\n",
       "      <th>1039</th>\n",
       "      <td>13/03/2022</td>\n",
       "      <td>Verona</td>\n",
       "      <td>Napoli</td>\n",
       "      <td>1</td>\n",
       "      <td>2</td>\n",
       "      <td>3.40</td>\n",
       "      <td>3.50</td>\n",
       "      <td>2.10</td>\n",
       "      <td>2.02</td>\n",
       "      <td>1.88</td>\n",
       "      <td>0</td>\n",
       "    </tr>\n",
       "    <tr>\n",
       "      <th>1040</th>\n",
       "      <td>13/03/2022</td>\n",
       "      <td>Atalanta</td>\n",
       "      <td>Genoa</td>\n",
       "      <td>0</td>\n",
       "      <td>0</td>\n",
       "      <td>1.33</td>\n",
       "      <td>5.25</td>\n",
       "      <td>8.50</td>\n",
       "      <td>1.66</td>\n",
       "      <td>2.20</td>\n",
       "      <td>0</td>\n",
       "    </tr>\n",
       "    <tr>\n",
       "      <th>1041</th>\n",
       "      <td>13/03/2022</td>\n",
       "      <td>Udinese</td>\n",
       "      <td>Roma</td>\n",
       "      <td>1</td>\n",
       "      <td>1</td>\n",
       "      <td>3.10</td>\n",
       "      <td>3.40</td>\n",
       "      <td>2.30</td>\n",
       "      <td>2.00</td>\n",
       "      <td>1.90</td>\n",
       "      <td>0</td>\n",
       "    </tr>\n",
       "    <tr>\n",
       "      <th>1042</th>\n",
       "      <td>13/03/2022</td>\n",
       "      <td>Torino</td>\n",
       "      <td>Inter</td>\n",
       "      <td>1</td>\n",
       "      <td>1</td>\n",
       "      <td>5.00</td>\n",
       "      <td>3.50</td>\n",
       "      <td>1.75</td>\n",
       "      <td>1.84</td>\n",
       "      <td>2.06</td>\n",
       "      <td>0</td>\n",
       "    </tr>\n",
       "    <tr>\n",
       "      <th>1043</th>\n",
       "      <td>14/03/2022</td>\n",
       "      <td>Lazio</td>\n",
       "      <td>Venezia</td>\n",
       "      <td>1</td>\n",
       "      <td>0</td>\n",
       "      <td>1.33</td>\n",
       "      <td>5.00</td>\n",
       "      <td>9.00</td>\n",
       "      <td>1.57</td>\n",
       "      <td>2.37</td>\n",
       "      <td>1</td>\n",
       "    </tr>\n",
       "  </tbody>\n",
       "</table>\n",
       "</div>"
      ],
      "text/plain": [
       "            Date  HomeTeam AwayTeam  FTHG  FTAG  B365CH  B365CD  B365CA  \\\n",
       "1039  13/03/2022    Verona   Napoli     1     2    3.40    3.50    2.10   \n",
       "1040  13/03/2022  Atalanta    Genoa     0     0    1.33    5.25    8.50   \n",
       "1041  13/03/2022   Udinese     Roma     1     1    3.10    3.40    2.30   \n",
       "1042  13/03/2022    Torino    Inter     1     1    5.00    3.50    1.75   \n",
       "1043  14/03/2022     Lazio  Venezia     1     0    1.33    5.00    9.00   \n",
       "\n",
       "      B365C>2.5  B365C<2.5  target  \n",
       "1039       2.02       1.88       0  \n",
       "1040       1.66       2.20       0  \n",
       "1041       2.00       1.90       0  \n",
       "1042       1.84       2.06       0  \n",
       "1043       1.57       2.37       1  "
      ]
     },
     "execution_count": 2,
     "metadata": {},
     "output_type": "execute_result"
    }
   ],
   "source": [
    "import numpy as np\n",
    "import pandas as pd\n",
    "\n",
    "from sklearn.preprocessing import MinMaxScaler\n",
    "from sklearn.linear_model import LogisticRegression\n",
    "from sklearn.metrics import classification_report\n",
    "\n",
    "def target(FTHG, FTAG):\n",
    "    if (FTHG > FTAG):\n",
    "        return 1\n",
    "    return 0\n",
    "\n",
    "leauge = \"I1\"\n",
    "\n",
    "data = [\n",
    "    f\"https://www.football-data.co.uk/mmz4281/1920/{leauge}.csv\",\n",
    "    f\"https://www.football-data.co.uk/mmz4281/2021/{leauge}.csv\",\n",
    "    f\"https://www.football-data.co.uk/mmz4281/2122/{leauge}.csv\"\n",
    "]\n",
    "\n",
    "li = []\n",
    "\n",
    "for leauge in data:\n",
    "    df = pd.read_csv(leauge)\n",
    "    li.append(df)\n",
    "\n",
    "df = pd.concat(li)\n",
    "\n",
    "df = df[[\"Date\", \"HomeTeam\", \"AwayTeam\", \"FTHG\", \"FTAG\", \"B365CH\", \"B365CD\", \"B365CA\", \"B365C>2.5\", \"B365C<2.5\"]]\n",
    "df[\"target\"] = np.vectorize(target)(df[\"FTHG\"], df[\"FTAG\"])\n",
    "\n",
    "print(df.isnull().sum().sum())\n",
    "df = df.dropna()\n",
    "\n",
    "df = df.reset_index(drop=True)\n",
    "\n",
    "df.tail()"
   ]
  },
  {
   "cell_type": "code",
   "execution_count": 3,
   "id": "2bfde0e8",
   "metadata": {},
   "outputs": [
    {
     "name": "stdout",
     "output_type": "stream",
     "text": [
      "(844, 57) (844,) (200, 57) (200,)\n",
      "(100, 57) (100,) (100, 57) (100,)\n"
     ]
    }
   ],
   "source": [
    "team_data = pd.get_dummies(df[[\"HomeTeam\", \"AwayTeam\"]])\n",
    "odds = df[[\"B365CH\", \"B365CD\", \"B365CA\", \"B365C>2.5\", \"B365C<2.5\"]]\n",
    "\n",
    "X = pd.concat([team_data, odds], axis=1)\n",
    "y = df[\"target\"]\n",
    "\n",
    "# test_size_1 = int(0.8 * len(X))\n",
    "test_size_1 = -200\n",
    "\n",
    "X_train = X[:test_size_1]\n",
    "y_train = y[:test_size_1]\n",
    "\n",
    "X_other = X[test_size_1:]\n",
    "y_other = y[test_size_1:]\n",
    "\n",
    "print(X_train.shape, y_train.shape, X_other.shape, y_other.shape)\n",
    "\n",
    "test_size_2 = int(0.5 * len(X_other))\n",
    "\n",
    "X_val = X_other[:test_size_2]\n",
    "y_val = y_other[:test_size_2]\n",
    "\n",
    "X_test = X_other[test_size_2:]\n",
    "y_test = y_other[test_size_2:]\n",
    "\n",
    "print(X_val.shape, y_val.shape, X_test.shape, y_test.shape)\n",
    "\n",
    "scaler = MinMaxScaler()\n",
    "X_train = scaler.fit_transform(X_train)\n",
    "X_val = scaler.transform(X_val)\n",
    "X_test = scaler.transform(X_test)"
   ]
  },
  {
   "cell_type": "code",
   "execution_count": 5,
   "id": "acde9e56",
   "metadata": {},
   "outputs": [
    {
     "name": "stdout",
     "output_type": "stream",
     "text": [
      "70.0\n",
      "0.07\n"
     ]
    }
   ],
   "source": [
    "start = 0.001\n",
    "end = 0.2\n",
    "jump = 0.001\n",
    "\n",
    "scores = []\n",
    "for c in np.arange(start, end + jump, jump):\n",
    "    model = LogisticRegression(random_state=101, C=c)\n",
    "    model.fit(X_train, y_train);\n",
    "    score = model.score(X_val, y_val)\n",
    "    scores.append(score)\n",
    "    \n",
    "print(np.argmax(scores) + (start / jump))\n",
    "print((np.argmax(scores) + (start / jump)) * jump)"
   ]
  },
  {
   "cell_type": "code",
   "execution_count": 6,
   "id": "e989d7aa",
   "metadata": {},
   "outputs": [
    {
     "name": "stdout",
     "output_type": "stream",
     "text": [
      "              precision    recall  f1-score   support\n",
      "\n",
      "           0       0.72      0.92      0.81        60\n",
      "           1       0.79      0.47      0.59        40\n",
      "\n",
      "    accuracy                           0.74       100\n",
      "   macro avg       0.76      0.70      0.70       100\n",
      "weighted avg       0.75      0.74      0.72       100\n",
      "\n"
     ]
    },
    {
     "data": {
      "text/plain": [
       "0    0.6\n",
       "1    0.4\n",
       "Name: target, dtype: float64"
      ]
     },
     "execution_count": 6,
     "metadata": {},
     "output_type": "execute_result"
    }
   ],
   "source": [
    "model = LogisticRegression(random_state=101, C=0.07)\n",
    "model.fit(X_train, y_train);\n",
    "\n",
    "print(classification_report(y_val, model.predict(X_val)))\n",
    "\n",
    "y_val.value_counts() / len(X_val)"
   ]
  },
  {
   "cell_type": "code",
   "execution_count": 7,
   "id": "60a33435",
   "metadata": {},
   "outputs": [
    {
     "name": "stdout",
     "output_type": "stream",
     "text": [
      "              precision    recall  f1-score   support\n",
      "\n",
      "           0       0.75      0.84      0.79        68\n",
      "           1       0.54      0.41      0.46        32\n",
      "\n",
      "    accuracy                           0.70       100\n",
      "   macro avg       0.65      0.62      0.63       100\n",
      "weighted avg       0.68      0.70      0.69       100\n",
      "\n"
     ]
    },
    {
     "data": {
      "text/plain": [
       "0    0.68\n",
       "1    0.32\n",
       "Name: target, dtype: float64"
      ]
     },
     "execution_count": 7,
     "metadata": {},
     "output_type": "execute_result"
    }
   ],
   "source": [
    "print(classification_report(y_test, model.predict(X_test)))\n",
    "\n",
    "y_test.value_counts() / len(X_test)"
   ]
  },
  {
   "cell_type": "code",
   "execution_count": 8,
   "id": "fcd890c1",
   "metadata": {},
   "outputs": [],
   "source": [
    "test = pd.DataFrame(columns=team_data.columns, data=np.zeros(len(team_data.columns)).reshape(1, len(team_data.columns)))"
   ]
  },
  {
   "cell_type": "code",
   "execution_count": 9,
   "id": "87df4421",
   "metadata": {},
   "outputs": [
    {
     "data": {
      "text/plain": [
       "array([[0.47248872, 0.52751128]])"
      ]
     },
     "execution_count": 9,
     "metadata": {},
     "output_type": "execute_result"
    }
   ],
   "source": [
    "test[\"HomeTeam_Napoli\"] = 1\n",
    "test[\"AwayTeam_Udinese\"] = 1\n",
    "\n",
    "test[\"B365CH\"] = 1.53\n",
    "test[\"B365CD\"] = 4.2\n",
    "test[\"B365CA\"] = 6\n",
    "test[\"B365C>2.5\"] = 1.84\n",
    "test[\"B365C<2.5\"] = 2.06\n",
    "\n",
    "test = scaler.transform(test)\n",
    "\n",
    "model.predict_proba(test)"
   ]
  },
  {
   "cell_type": "code",
   "execution_count": 13,
   "id": "6de06718",
   "metadata": {},
   "outputs": [
    {
     "data": {
      "text/plain": [
       "array([[2.27288584, 1.7856164 ]])"
      ]
     },
     "execution_count": 13,
     "metadata": {},
     "output_type": "execute_result"
    }
   ],
   "source": [
    "1 / model.predict_proba(test)"
   ]
  },
  {
   "cell_type": "code",
   "execution_count": null,
   "id": "2d77997c",
   "metadata": {},
   "outputs": [],
   "source": [
    "array([[0.5984822 , 0.17946433, 0.22205347]])"
   ]
  }
 ],
 "metadata": {
  "kernelspec": {
   "display_name": "Python 3 (ipykernel)",
   "language": "python",
   "name": "python3"
  },
  "language_info": {
   "codemirror_mode": {
    "name": "ipython",
    "version": 3
   },
   "file_extension": ".py",
   "mimetype": "text/x-python",
   "name": "python",
   "nbconvert_exporter": "python",
   "pygments_lexer": "ipython3",
   "version": "3.9.7"
  }
 },
 "nbformat": 4,
 "nbformat_minor": 5
}
