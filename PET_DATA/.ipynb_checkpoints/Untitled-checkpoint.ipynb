{
 "cells": [
  {
   "cell_type": "code",
   "execution_count": 1,
   "id": "b66a2e7c",
   "metadata": {},
   "outputs": [],
   "source": [
    "import os\n",
    "import pandas as pd\n",
    "import numpy as np\n",
    "import matplotlib.pyplot as plt\n",
    "from matplotlib.image import imread\n",
    "import seaborn as sns\n",
    "\n",
    "from sklearn.metrics import classification_report\n",
    "\n",
    "from tensorflow.keras.preprocessing.image import ImageDataGenerator\n",
    "from tensorflow.keras.models import Sequential\n",
    "from tensorflow.keras.layers import Dropout, Flatten, Dense, Conv2D, MaxPooling2D\n",
    "from tensorflow.keras.callbacks import EarlyStopping"
   ]
  },
  {
   "cell_type": "code",
   "execution_count": 2,
   "id": "00981e3e",
   "metadata": {},
   "outputs": [],
   "source": [
    "my_data_dir = 'C:\\\\Users\\\\Shahar\\\\Desktop\\\\Deep_Learning_Projects\\\\PET_DATA\\\\images'\n",
    "\n",
    "test_path = my_data_dir + '\\\\test\\\\'\n",
    "train_path = my_data_dir + '\\\\train\\\\'"
   ]
  },
  {
   "cell_type": "code",
   "execution_count": null,
   "id": "6d46b9fe",
   "metadata": {},
   "outputs": [],
   "source": [
    "image_gen = ImageDataGenerator(\n",
    "    rotation_range=20, # rotate the image 20 degrees\n",
    "    width_shift_range=0.10, # Shift the pic width by a max of 5%\n",
    "    height_shift_range=0.10, # Shift the pic height by a max of 5%\n",
    "    rescale=1/255, # Rescale the image by normalzing it.\n",
    "    shear_range=0.1, # Shear means cutting away part of the image (max 10%)\n",
    "    zoom_range=0.1, # Zoom in by 10% max\n",
    "    horizontal_flip=True, # Allo horizontal flipping\n",
    "    fill_mode='nearest' # Fill in missing pixels with the nearest filled value\n",
    ")"
   ]
  }
 ],
 "metadata": {
  "kernelspec": {
   "display_name": "Python 3 (ipykernel)",
   "language": "python",
   "name": "python3"
  },
  "language_info": {
   "codemirror_mode": {
    "name": "ipython",
    "version": 3
   },
   "file_extension": ".py",
   "mimetype": "text/x-python",
   "name": "python",
   "nbconvert_exporter": "python",
   "pygments_lexer": "ipython3",
   "version": "3.9.7"
  }
 },
 "nbformat": 4,
 "nbformat_minor": 5
}
