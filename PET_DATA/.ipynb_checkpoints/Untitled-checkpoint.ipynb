{
 "cells": [
  {
   "cell_type": "code",
   "execution_count": 55,
   "id": "7bbadf1d",
   "metadata": {},
   "outputs": [],
   "source": [
    "import os\n",
    "import pandas as pd\n",
    "import numpy as np\n",
    "import seaborn as sns\n",
    "import matplotlib.pyplot as plt\n",
    "from matplotlib.image import imread\n",
    "\n",
    "from tensorflow.keras.preprocessing.image import ImageDataGenerator\n",
    "from tensorflow.keras.models import Sequential\n",
    "from tensorflow.keras.layers import Dropout, Flatten, Dense, Conv2D, MaxPooling2D\n",
    "from tensorflow.keras.callbacks import EarlyStopping\n",
    "\n",
    "from sklearn.metrics import classification_report"
   ]
  },
  {
   "cell_type": "code",
   "execution_count": 56,
   "id": "eda62479",
   "metadata": {},
   "outputs": [
    {
     "data": {
      "text/plain": [
       "['train', 'test']"
      ]
     },
     "execution_count": 56,
     "metadata": {},
     "output_type": "execute_result"
    }
   ],
   "source": [
    "my_data_dir = 'images/'\n",
    "os.listdir(my_data_dir) "
   ]
  },
  {
   "cell_type": "code",
   "execution_count": 57,
   "id": "c0aae810",
   "metadata": {},
   "outputs": [
    {
     "name": "stdout",
     "output_type": "stream",
     "text": [
      "['basset_hound', 'american_pit_bull_terrier', 'abyssinian', 'american_bulldog']\n",
      "['basset_hound', 'american_pit_bull_terrier', 'abyssinian', 'american_bulldog']\n"
     ]
    }
   ],
   "source": [
    "train_path = my_data_dir + 'train/'\n",
    "test_path = my_data_dir + 'test/'\n",
    "\n",
    "print(os.listdir(train_path))\n",
    "print(os.listdir(test_path))"
   ]
  },
  {
   "cell_type": "code",
   "execution_count": 58,
   "id": "37c399a0",
   "metadata": {},
   "outputs": [
    {
     "name": "stdout",
     "output_type": "stream",
     "text": [
      "Found 480 images belonging to 4 classes.\n",
      "<keras.preprocessing.image.DirectoryIterator object at 0x7ff0980c74c0>\n",
      "Found 320 images belonging to 4 classes.\n",
      "<keras.preprocessing.image.DirectoryIterator object at 0x7ff098127ca0>\n"
     ]
    }
   ],
   "source": [
    "image_gen = ImageDataGenerator()\n",
    "\n",
    "print(image_gen.flow_from_directory(train_path))\n",
    "print(image_gen.flow_from_directory(test_path))"
   ]
  },
  {
   "cell_type": "code",
   "execution_count": 59,
   "id": "3e77bdbc",
   "metadata": {},
   "outputs": [],
   "source": [
    "model = Sequential()\n",
    "\n",
    "model.add(Conv2D(filters=32, kernel_size=(3, 3), activation='relu'))\n",
    "model.add(MaxPooling2D())\n",
    "\n",
    "model.add(Conv2D(filters=32, kernel_size=(3, 3), activation='relu'))\n",
    "model.add(MaxPooling2D())\n",
    "\n",
    "model.add(Flatten())\n",
    "\n",
    "model.add(Dense(units=256, activation='relu'))\n",
    "# model.add(Dropout(rate=0.5))\n",
    "\n",
    "model.add(Dense(units=4, activation='softmax'))\n",
    "\n",
    "model.compile(loss='categorical_crossentropy', optimizer='adam', metrics=['accuracy'])\n",
    "\n",
    "early_stop = EarlyStopping(monitor='val_loss', patience=3)"
   ]
  },
  {
   "cell_type": "code",
   "execution_count": 68,
   "id": "d78fe979",
   "metadata": {},
   "outputs": [
    {
     "name": "stdout",
     "output_type": "stream",
     "text": [
      "Found 480 images belonging to 4 classes.\n"
     ]
    },
    {
     "ename": "TypeError",
     "evalue": "unsupported operand type(s) for /: 'tuple' and 'tuple'",
     "output_type": "error",
     "traceback": [
      "\u001b[0;31m---------------------------------------------------------------------------\u001b[0m",
      "\u001b[0;31mTypeError\u001b[0m                                 Traceback (most recent call last)",
      "\u001b[0;32m/tmp/ipykernel_83691/1584666320.py\u001b[0m in \u001b[0;36m<module>\u001b[0;34m\u001b[0m\n\u001b[1;32m      1\u001b[0m \u001b[0mtrain_image_gen\u001b[0m \u001b[0;34m=\u001b[0m \u001b[0mimage_gen\u001b[0m\u001b[0;34m.\u001b[0m\u001b[0mflow_from_directory\u001b[0m\u001b[0;34m(\u001b[0m\u001b[0mdirectory\u001b[0m\u001b[0;34m=\u001b[0m\u001b[0mtrain_path\u001b[0m\u001b[0;34m)\u001b[0m\u001b[0;34m\u001b[0m\u001b[0;34m\u001b[0m\u001b[0m\n\u001b[0;32m----> 2\u001b[0;31m \u001b[0mtrain_image_gen\u001b[0m\u001b[0;34m[\u001b[0m\u001b[0;36m1\u001b[0m\u001b[0;34m]\u001b[0m \u001b[0;34m/\u001b[0m \u001b[0;34m(\u001b[0m\u001b[0;36m255\u001b[0m\u001b[0;34m,\u001b[0m \u001b[0;36m255\u001b[0m\u001b[0;34m,\u001b[0m \u001b[0;36m255\u001b[0m\u001b[0;34m)\u001b[0m\u001b[0;34m\u001b[0m\u001b[0;34m\u001b[0m\u001b[0m\n\u001b[0m",
      "\u001b[0;31mTypeError\u001b[0m: unsupported operand type(s) for /: 'tuple' and 'tuple'"
     ]
    }
   ],
   "source": [
    "train_image_gen = image_gen.flow_from_directory(directory=train_path)\n",
    "train_image_gen[1]"
   ]
  },
  {
   "cell_type": "code",
   "execution_count": 49,
   "id": "37e96bf9",
   "metadata": {},
   "outputs": [
    {
     "name": "stdout",
     "output_type": "stream",
     "text": [
      "Found 320 images belonging to 4 classes.\n"
     ]
    }
   ],
   "source": [
    "test_image_gen = image_gen.flow_from_directory(directory=test_path, shuffle=False)"
   ]
  },
  {
   "cell_type": "code",
   "execution_count": 50,
   "id": "2b3dfb0b",
   "metadata": {},
   "outputs": [
    {
     "name": "stderr",
     "output_type": "stream",
     "text": [
      "/tmp/ipykernel_83691/1422981528.py:1: UserWarning: `Model.fit_generator` is deprecated and will be removed in a future version. Please use `Model.fit`, which supports generators.\n",
      "  model.fit_generator(train_image_gen, epochs=20, validation_data=test_image_gen, callbacks=[early_stop])\n"
     ]
    },
    {
     "name": "stdout",
     "output_type": "stream",
     "text": [
      "Epoch 1/20\n",
      "15/15 [==============================] - 27s 2s/step - loss: 37.6432 - accuracy: 0.2521 - val_loss: 1.4236 - val_accuracy: 0.2656\n",
      "Epoch 2/20\n",
      "15/15 [==============================] - 26s 2s/step - loss: 1.3698 - accuracy: 0.3250 - val_loss: 1.3645 - val_accuracy: 0.3500\n",
      "Epoch 3/20\n",
      "15/15 [==============================] - 26s 2s/step - loss: 1.3153 - accuracy: 0.4021 - val_loss: 1.3526 - val_accuracy: 0.3500\n",
      "Epoch 4/20\n",
      "15/15 [==============================] - 26s 2s/step - loss: 1.1656 - accuracy: 0.4667 - val_loss: 1.3719 - val_accuracy: 0.3125\n"
     ]
    },
    {
     "data": {
      "text/plain": [
       "<keras.callbacks.History at 0x7ff0b0052610>"
      ]
     },
     "execution_count": 50,
     "metadata": {},
     "output_type": "execute_result"
    }
   ],
   "source": [
    "model.fit_generator(train_image_gen, epochs=20, validation_data=test_image_gen, callbacks=[early_stop])"
   ]
  },
  {
   "cell_type": "code",
   "execution_count": 51,
   "id": "2f844cb7",
   "metadata": {},
   "outputs": [],
   "source": [
    "losses = pd.DataFrame(model.history.history)"
   ]
  },
  {
   "cell_type": "code",
   "execution_count": 52,
   "id": "a3fdd519",
   "metadata": {},
   "outputs": [
    {
     "data": {
      "text/plain": [
       "<AxesSubplot:>"
      ]
     },
     "execution_count": 52,
     "metadata": {},
     "output_type": "execute_result"
    },
    {
     "data": {
      "image/png": "[encoded data removed]",
      "text/plain": [
       "<Figure size 432x288 with 1 Axes>"
      ]
     },
     "metadata": {
      "needs_background": "light"
     },
     "output_type": "display_data"
    }
   ],
   "source": [
    "losses[['loss','val_loss']].plot()"
   ]
  },
  {
   "cell_type": "code",
   "execution_count": 53,
   "id": "1ec5caf2",
   "metadata": {},
   "outputs": [
    {
     "name": "stderr",
     "output_type": "stream",
     "text": [
      "/tmp/ipykernel_83691/1879715448.py:1: UserWarning: `Model.predict_generator` is deprecated and will be removed in a future version. Please use `Model.predict`, which supports generators.\n",
      "  pred_probabilities = model.predict_generator(test_image_gen)\n"
     ]
    }
   ],
   "source": [
    "pred_probabilities = model.predict_generator(test_image_gen)\n",
    "pred_probabilities = np.argmax(pred_probabilities, axis=1)"
   ]
  },
  {
   "cell_type": "code",
   "execution_count": 54,
   "id": "d5a68eb3",
   "metadata": {},
   "outputs": [
    {
     "name": "stdout",
     "output_type": "stream",
     "text": [
      "              precision    recall  f1-score   support\n",
      "\n",
      "           0       0.38      0.19      0.25        80\n",
      "           1       0.25      0.24      0.25        80\n",
      "           2       0.32      0.23      0.26        80\n",
      "           3       0.32      0.60      0.42        80\n",
      "\n",
      "    accuracy                           0.31       320\n",
      "   macro avg       0.32      0.31      0.29       320\n",
      "weighted avg       0.32      0.31      0.29       320\n",
      "\n"
     ]
    }
   ],
   "source": [
    "print(classification_report(test_image_gen.classes, pred_probabilities))"
   ]
  },
  {
   "cell_type": "code",
   "execution_count": null,
   "id": "15e54e86",
   "metadata": {},
   "outputs": [],
   "source": []
  }
 ],
 "metadata": {
  "kernelspec": {
   "display_name": "Python 3 (ipykernel)",
   "language": "python",
   "name": "python3"
  },
  "language_info": {
   "codemirror_mode": {
    "name": "ipython",
    "version": 3
   },
   "file_extension": ".py",
   "mimetype": "text/x-python",
   "name": "python",
   "nbconvert_exporter": "python",
   "pygments_lexer": "ipython3",
   "version": "3.9.7"
  }
 },
 "nbformat": 4,
 "nbformat_minor": 5
}
