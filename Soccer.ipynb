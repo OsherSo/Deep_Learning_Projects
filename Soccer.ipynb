{
 "cells": [
  {
   "cell_type": "code",
   "execution_count": 28,
   "id": "9d3ffe39",
   "metadata": {},
   "outputs": [],
   "source": [
    "import numpy as np\n",
    "import pandas as pd\n",
    "import seaborn as sns\n",
    "\n",
    "from sklearn.model_selection import train_test_split\n",
    "from sklearn.ensemble import RandomForestClassifier\n",
    "from sklearn.metrics import classification_report\n",
    "\n",
    "def target(FTHG, FTAG):\n",
    "    if (FTHG > FTAG):\n",
    "        return 1\n",
    "    return 0\n",
    "\n",
    "leauge = \"P1\"\n",
    "\n",
    "data = [\n",
    "    f\"https://www.football-data.co.uk/mmz4281/1920/{leauge}.csv\",\n",
    "    f\"https://www.football-data.co.uk/mmz4281/2021/{leauge}.csv\",\n",
    "    f\"https://www.football-data.co.uk/mmz4281/2122/{leauge}.csv\"\n",
    "]"
   ]
  },
  {
   "cell_type": "code",
   "execution_count": 29,
   "id": "caf3ddde",
   "metadata": {},
   "outputs": [
    {
     "name": "stdout",
     "output_type": "stream",
     "text": [
      "0\n"
     ]
    },
    {
     "data": {
      "text/html": [
       "<div>\n",
       "<style scoped>\n",
       "    .dataframe tbody tr th:only-of-type {\n",
       "        vertical-align: middle;\n",
       "    }\n",
       "\n",
       "    .dataframe tbody tr th {\n",
       "        vertical-align: top;\n",
       "    }\n",
       "\n",
       "    .dataframe thead th {\n",
       "        text-align: right;\n",
       "    }\n",
       "</style>\n",
       "<table border=\"1\" class=\"dataframe\">\n",
       "  <thead>\n",
       "    <tr style=\"text-align: right;\">\n",
       "      <th></th>\n",
       "      <th>Date</th>\n",
       "      <th>HomeTeam</th>\n",
       "      <th>AwayTeam</th>\n",
       "      <th>FTHG</th>\n",
       "      <th>FTAG</th>\n",
       "      <th>B365CH</th>\n",
       "      <th>B365CD</th>\n",
       "      <th>B365CA</th>\n",
       "      <th>B365C&gt;2.5</th>\n",
       "      <th>B365C&lt;2.5</th>\n",
       "      <th>target</th>\n",
       "    </tr>\n",
       "  </thead>\n",
       "  <tbody>\n",
       "    <tr>\n",
       "      <th>841</th>\n",
       "      <td>12/03/2022</td>\n",
       "      <td>Belenenses</td>\n",
       "      <td>Boavista</td>\n",
       "      <td>0</td>\n",
       "      <td>0</td>\n",
       "      <td>3.50</td>\n",
       "      <td>3.25</td>\n",
       "      <td>2.10</td>\n",
       "      <td>2.25</td>\n",
       "      <td>1.61</td>\n",
       "      <td>0</td>\n",
       "    </tr>\n",
       "    <tr>\n",
       "      <th>842</th>\n",
       "      <td>13/03/2022</td>\n",
       "      <td>Maritimo</td>\n",
       "      <td>Guimaraes</td>\n",
       "      <td>0</td>\n",
       "      <td>1</td>\n",
       "      <td>2.70</td>\n",
       "      <td>3.10</td>\n",
       "      <td>2.80</td>\n",
       "      <td>2.05</td>\n",
       "      <td>1.75</td>\n",
       "      <td>0</td>\n",
       "    </tr>\n",
       "    <tr>\n",
       "      <th>843</th>\n",
       "      <td>13/03/2022</td>\n",
       "      <td>Porto</td>\n",
       "      <td>Tondela</td>\n",
       "      <td>4</td>\n",
       "      <td>0</td>\n",
       "      <td>1.12</td>\n",
       "      <td>9.50</td>\n",
       "      <td>15.00</td>\n",
       "      <td>1.33</td>\n",
       "      <td>3.40</td>\n",
       "      <td>1</td>\n",
       "    </tr>\n",
       "    <tr>\n",
       "      <th>844</th>\n",
       "      <td>13/03/2022</td>\n",
       "      <td>Sp Braga</td>\n",
       "      <td>Gil Vicente</td>\n",
       "      <td>0</td>\n",
       "      <td>1</td>\n",
       "      <td>1.72</td>\n",
       "      <td>3.80</td>\n",
       "      <td>4.50</td>\n",
       "      <td>1.80</td>\n",
       "      <td>2.00</td>\n",
       "      <td>0</td>\n",
       "    </tr>\n",
       "    <tr>\n",
       "      <th>845</th>\n",
       "      <td>14/03/2022</td>\n",
       "      <td>Moreirense</td>\n",
       "      <td>Sp Lisbon</td>\n",
       "      <td>0</td>\n",
       "      <td>2</td>\n",
       "      <td>7.00</td>\n",
       "      <td>4.50</td>\n",
       "      <td>1.44</td>\n",
       "      <td>2.02</td>\n",
       "      <td>1.83</td>\n",
       "      <td>0</td>\n",
       "    </tr>\n",
       "  </tbody>\n",
       "</table>\n",
       "</div>"
      ],
      "text/plain": [
       "           Date    HomeTeam     AwayTeam  FTHG  FTAG  B365CH  B365CD  B365CA  \\\n",
       "841  12/03/2022  Belenenses     Boavista     0     0    3.50    3.25    2.10   \n",
       "842  13/03/2022    Maritimo    Guimaraes     0     1    2.70    3.10    2.80   \n",
       "843  13/03/2022       Porto      Tondela     4     0    1.12    9.50   15.00   \n",
       "844  13/03/2022    Sp Braga  Gil Vicente     0     1    1.72    3.80    4.50   \n",
       "845  14/03/2022  Moreirense    Sp Lisbon     0     2    7.00    4.50    1.44   \n",
       "\n",
       "     B365C>2.5  B365C<2.5  target  \n",
       "841       2.25       1.61       0  \n",
       "842       2.05       1.75       0  \n",
       "843       1.33       3.40       1  \n",
       "844       1.80       2.00       0  \n",
       "845       2.02       1.83       0  "
      ]
     },
     "execution_count": 29,
     "metadata": {},
     "output_type": "execute_result"
    }
   ],
   "source": [
    "li = []\n",
    "\n",
    "for leauge in data:\n",
    "    df = pd.read_csv(leauge)\n",
    "    li.append(df)\n",
    "\n",
    "df = pd.concat(li)\n",
    "\n",
    "df = df[[\"Date\", \"HomeTeam\", \"AwayTeam\", \"FTHG\", \"FTAG\", \"B365CH\", \"B365CD\", \"B365CA\", \"B365C>2.5\", \"B365C<2.5\"]]\n",
    "df[\"target\"] = np.vectorize(target)(df[\"FTHG\"], df[\"FTAG\"])\n",
    "df = df.reset_index(drop=True)\n",
    "\n",
    "print(df.isnull().sum().sum())\n",
    "df = df.dropna()\n",
    "\n",
    "df.tail()"
   ]
  },
  {
   "cell_type": "code",
   "execution_count": 30,
   "id": "810c41f7",
   "metadata": {},
   "outputs": [
    {
     "data": {
      "text/plain": [
       "<AxesSubplot:xlabel='target', ylabel='count'>"
      ]
     },
     "execution_count": 30,
     "metadata": {},
     "output_type": "execute_result"
    },
    {
     "data": {
      "image/png": "[encoded data removed]",
      "text/plain": [
       "<Figure size 432x288 with 1 Axes>"
      ]
     },
     "metadata": {
      "needs_background": "light"
     },
     "output_type": "display_data"
    }
   ],
   "source": [
    "sns.countplot(data=df, x=\"target\")"
   ]
  },
  {
   "cell_type": "code",
   "execution_count": 31,
   "id": "2bfde0e8",
   "metadata": {},
   "outputs": [
    {
     "name": "stdout",
     "output_type": "stream",
     "text": [
      "(592, 51) (592,)\n",
      "(127, 51) (127,)\n",
      "(127, 51) (127,)\n",
      "\n",
      "151\n"
     ]
    }
   ],
   "source": [
    "team_data = pd.get_dummies(df[[\"HomeTeam\", \"AwayTeam\"]])\n",
    "odds = df[[\"B365CH\", \"B365CD\", \"B365CA\", \"B365C>2.5\", \"B365C<2.5\"]]\n",
    "\n",
    "X = pd.concat([team_data, odds], axis=1)\n",
    "y = df[\"target\"]\n",
    "\n",
    "X_train, X_other, y_train, y_other = train_test_split(X, y, test_size=0.3, random_state=101)\n",
    "print(X_train.shape, y_train.shape)\n",
    "\n",
    "X_val, X_test, y_val, y_test = train_test_split(X_other, y_other, test_size=0.5, random_state=101)\n",
    "print(X_val.shape, y_val.shape)\n",
    "print(X_test.shape, y_test.shape)\n",
    "\n",
    "print()\n",
    "scores = []\n",
    "for i in np.arange(1, 201, 1):\n",
    "    model = RandomForestClassifier(random_state=101, n_estimators=i)\n",
    "    model.fit(X_train, y_train);\n",
    "    score = model.score(X_val, y_val)\n",
    "    scores.append(score)\n",
    "    \n",
    "print(np.argmax(scores) + 1)"
   ]
  },
  {
   "cell_type": "code",
   "execution_count": 32,
   "id": "e989d7aa",
   "metadata": {},
   "outputs": [
    {
     "name": "stdout",
     "output_type": "stream",
     "text": [
      "              precision    recall  f1-score   support\n",
      "\n",
      "           0       0.69      0.84      0.76        73\n",
      "           1       0.69      0.50      0.58        54\n",
      "\n",
      "    accuracy                           0.69       127\n",
      "   macro avg       0.69      0.67      0.67       127\n",
      "weighted avg       0.69      0.69      0.68       127\n",
      "\n"
     ]
    }
   ],
   "source": [
    "model = RandomForestClassifier(random_state=101, n_estimators=151)\n",
    "model.fit(X_train, y_train);\n",
    "print(classification_report(y_val, model.predict(X_val)))"
   ]
  },
  {
   "cell_type": "code",
   "execution_count": 33,
   "id": "d87a4daa",
   "metadata": {},
   "outputs": [
    {
     "data": {
      "text/plain": [
       "0    0.574803\n",
       "1    0.425197\n",
       "Name: target, dtype: float64"
      ]
     },
     "execution_count": 33,
     "metadata": {},
     "output_type": "execute_result"
    }
   ],
   "source": [
    "y_val.value_counts() / len(X_val)"
   ]
  },
  {
   "cell_type": "code",
   "execution_count": 34,
   "id": "60a33435",
   "metadata": {},
   "outputs": [
    {
     "name": "stdout",
     "output_type": "stream",
     "text": [
      "              precision    recall  f1-score   support\n",
      "\n",
      "           0       0.64      0.85      0.73        73\n",
      "           1       0.63      0.35      0.45        54\n",
      "\n",
      "    accuracy                           0.64       127\n",
      "   macro avg       0.64      0.60      0.59       127\n",
      "weighted avg       0.64      0.64      0.61       127\n",
      "\n"
     ]
    }
   ],
   "source": [
    "print(classification_report(y_test, model.predict(X_test)))"
   ]
  },
  {
   "cell_type": "code",
   "execution_count": 35,
   "id": "3ec8365c",
   "metadata": {},
   "outputs": [
    {
     "data": {
      "text/plain": [
       "0    0.574803\n",
       "1    0.425197\n",
       "Name: target, dtype: float64"
      ]
     },
     "execution_count": 35,
     "metadata": {},
     "output_type": "execute_result"
    }
   ],
   "source": [
    "y_test.value_counts() / len(X_test)"
   ]
  },
  {
   "cell_type": "code",
   "execution_count": 48,
   "id": "fcd890c1",
   "metadata": {},
   "outputs": [],
   "source": [
    "test = pd.DataFrame(columns=team_data.columns, data=np.zeros(len(team_data.columns)).reshape(1, len(team_data.columns)))"
   ]
  },
  {
   "cell_type": "code",
   "execution_count": 49,
   "id": "87df4421",
   "metadata": {},
   "outputs": [
    {
     "data": {
      "text/plain": [
       "array([[0.64220183, 0.28440367, 0.0733945 ]])"
      ]
     },
     "execution_count": 49,
     "metadata": {},
     "output_type": "execute_result"
    }
   ],
   "source": [
    "test[\"HomeTeam_Napoli\"] = 1\n",
    "test[\"AwayTeam_Udinese\"] = 1\n",
    "\n",
    "test[\"B365CH\"] = 1.53\n",
    "test[\"B365CD\"] = 4.2\n",
    "test[\"B365CA\"] = 6\n",
    "test[\"B365C>2.5\"] = 1.84\n",
    "test[\"B365C<2.5\"] = 2.06\n",
    "\n",
    "model.predict_proba(test)"
   ]
  },
  {
   "cell_type": "code",
   "execution_count": 50,
   "id": "6de06718",
   "metadata": {},
   "outputs": [
    {
     "data": {
      "text/plain": [
       "array([[ 1.55714286,  3.51612903, 13.625     ]])"
      ]
     },
     "execution_count": 50,
     "metadata": {},
     "output_type": "execute_result"
    }
   ],
   "source": [
    "1 / model.predict_proba(test)"
   ]
  },
  {
   "cell_type": "code",
   "execution_count": null,
   "id": "2d77997c",
   "metadata": {},
   "outputs": [],
   "source": []
  }
 ],
 "metadata": {
  "kernelspec": {
   "display_name": "Python 3 (ipykernel)",
   "language": "python",
   "name": "python3"
  },
  "language_info": {
   "codemirror_mode": {
    "name": "ipython",
    "version": 3
   },
   "file_extension": ".py",
   "mimetype": "text/x-python",
   "name": "python",
   "nbconvert_exporter": "python",
   "pygments_lexer": "ipython3",
   "version": "3.9.7"
  }
 },
 "nbformat": 4,
 "nbformat_minor": 5
}
