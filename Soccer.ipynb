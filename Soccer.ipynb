{
 "cells": [
  {
   "cell_type": "code",
   "execution_count": 50,
   "id": "9d3ffe39",
   "metadata": {},
   "outputs": [
    {
     "name": "stdout",
     "output_type": "stream",
     "text": [
      "2\n"
     ]
    },
    {
     "data": {
      "text/html": [
       "<div>\n",
       "<style scoped>\n",
       "    .dataframe tbody tr th:only-of-type {\n",
       "        vertical-align: middle;\n",
       "    }\n",
       "\n",
       "    .dataframe tbody tr th {\n",
       "        vertical-align: top;\n",
       "    }\n",
       "\n",
       "    .dataframe thead th {\n",
       "        text-align: right;\n",
       "    }\n",
       "</style>\n",
       "<table border=\"1\" class=\"dataframe\">\n",
       "  <thead>\n",
       "    <tr style=\"text-align: right;\">\n",
       "      <th></th>\n",
       "      <th>Date</th>\n",
       "      <th>HomeTeam</th>\n",
       "      <th>AwayTeam</th>\n",
       "      <th>FTHG</th>\n",
       "      <th>FTAG</th>\n",
       "      <th>B365CH</th>\n",
       "      <th>B365CD</th>\n",
       "      <th>B365CA</th>\n",
       "      <th>B365C&gt;2.5</th>\n",
       "      <th>B365C&lt;2.5</th>\n",
       "      <th>target</th>\n",
       "    </tr>\n",
       "  </thead>\n",
       "  <tbody>\n",
       "    <tr>\n",
       "      <th>768</th>\n",
       "      <td>13/03/2022</td>\n",
       "      <td>AZ Alkmaar</td>\n",
       "      <td>Twente</td>\n",
       "      <td>0</td>\n",
       "      <td>1</td>\n",
       "      <td>1.85</td>\n",
       "      <td>3.40</td>\n",
       "      <td>4.50</td>\n",
       "      <td>2.00</td>\n",
       "      <td>1.85</td>\n",
       "      <td>0</td>\n",
       "    </tr>\n",
       "    <tr>\n",
       "      <th>769</th>\n",
       "      <td>18/03/2022</td>\n",
       "      <td>Heerenveen</td>\n",
       "      <td>Heracles</td>\n",
       "      <td>2</td>\n",
       "      <td>0</td>\n",
       "      <td>2.20</td>\n",
       "      <td>3.30</td>\n",
       "      <td>3.30</td>\n",
       "      <td>2.10</td>\n",
       "      <td>1.70</td>\n",
       "      <td>1</td>\n",
       "    </tr>\n",
       "    <tr>\n",
       "      <th>770</th>\n",
       "      <td>19/03/2022</td>\n",
       "      <td>Go Ahead Eagles</td>\n",
       "      <td>Cambuur</td>\n",
       "      <td>3</td>\n",
       "      <td>0</td>\n",
       "      <td>1.90</td>\n",
       "      <td>3.60</td>\n",
       "      <td>3.75</td>\n",
       "      <td>1.88</td>\n",
       "      <td>1.98</td>\n",
       "      <td>1</td>\n",
       "    </tr>\n",
       "    <tr>\n",
       "      <th>771</th>\n",
       "      <td>19/03/2022</td>\n",
       "      <td>Twente</td>\n",
       "      <td>Zwolle</td>\n",
       "      <td>1</td>\n",
       "      <td>0</td>\n",
       "      <td>1.57</td>\n",
       "      <td>4.00</td>\n",
       "      <td>6.00</td>\n",
       "      <td>1.90</td>\n",
       "      <td>1.95</td>\n",
       "      <td>1</td>\n",
       "    </tr>\n",
       "    <tr>\n",
       "      <th>772</th>\n",
       "      <td>19/03/2022</td>\n",
       "      <td>Nijmegen</td>\n",
       "      <td>Sparta Rotterdam</td>\n",
       "      <td>0</td>\n",
       "      <td>0</td>\n",
       "      <td>2.45</td>\n",
       "      <td>3.30</td>\n",
       "      <td>2.90</td>\n",
       "      <td>2.10</td>\n",
       "      <td>1.70</td>\n",
       "      <td>0</td>\n",
       "    </tr>\n",
       "    <tr>\n",
       "      <th>773</th>\n",
       "      <td>20/03/2022</td>\n",
       "      <td>Utrecht</td>\n",
       "      <td>Groningen</td>\n",
       "      <td>1</td>\n",
       "      <td>3</td>\n",
       "      <td>1.85</td>\n",
       "      <td>3.60</td>\n",
       "      <td>4.33</td>\n",
       "      <td>1.98</td>\n",
       "      <td>1.88</td>\n",
       "      <td>0</td>\n",
       "    </tr>\n",
       "    <tr>\n",
       "      <th>774</th>\n",
       "      <td>20/03/2022</td>\n",
       "      <td>Ajax</td>\n",
       "      <td>Feyenoord</td>\n",
       "      <td>3</td>\n",
       "      <td>2</td>\n",
       "      <td>1.40</td>\n",
       "      <td>5.00</td>\n",
       "      <td>7.50</td>\n",
       "      <td>1.44</td>\n",
       "      <td>2.70</td>\n",
       "      <td>1</td>\n",
       "    </tr>\n",
       "    <tr>\n",
       "      <th>775</th>\n",
       "      <td>20/03/2022</td>\n",
       "      <td>PSV Eindhoven</td>\n",
       "      <td>For Sittard</td>\n",
       "      <td>5</td>\n",
       "      <td>0</td>\n",
       "      <td>1.12</td>\n",
       "      <td>8.50</td>\n",
       "      <td>19.00</td>\n",
       "      <td>1.25</td>\n",
       "      <td>4.00</td>\n",
       "      <td>1</td>\n",
       "    </tr>\n",
       "    <tr>\n",
       "      <th>776</th>\n",
       "      <td>20/03/2022</td>\n",
       "      <td>Vitesse</td>\n",
       "      <td>Waalwijk</td>\n",
       "      <td>1</td>\n",
       "      <td>2</td>\n",
       "      <td>1.53</td>\n",
       "      <td>4.33</td>\n",
       "      <td>5.75</td>\n",
       "      <td>1.72</td>\n",
       "      <td>2.07</td>\n",
       "      <td>0</td>\n",
       "    </tr>\n",
       "    <tr>\n",
       "      <th>777</th>\n",
       "      <td>20/03/2022</td>\n",
       "      <td>Willem II</td>\n",
       "      <td>AZ Alkmaar</td>\n",
       "      <td>2</td>\n",
       "      <td>2</td>\n",
       "      <td>5.50</td>\n",
       "      <td>4.00</td>\n",
       "      <td>1.61</td>\n",
       "      <td>2.05</td>\n",
       "      <td>1.80</td>\n",
       "      <td>0</td>\n",
       "    </tr>\n",
       "  </tbody>\n",
       "</table>\n",
       "</div>"
      ],
      "text/plain": [
       "           Date         HomeTeam          AwayTeam  FTHG  FTAG  B365CH  \\\n",
       "768  13/03/2022       AZ Alkmaar            Twente     0     1    1.85   \n",
       "769  18/03/2022       Heerenveen          Heracles     2     0    2.20   \n",
       "770  19/03/2022  Go Ahead Eagles           Cambuur     3     0    1.90   \n",
       "771  19/03/2022           Twente            Zwolle     1     0    1.57   \n",
       "772  19/03/2022         Nijmegen  Sparta Rotterdam     0     0    2.45   \n",
       "773  20/03/2022          Utrecht         Groningen     1     3    1.85   \n",
       "774  20/03/2022             Ajax         Feyenoord     3     2    1.40   \n",
       "775  20/03/2022    PSV Eindhoven       For Sittard     5     0    1.12   \n",
       "776  20/03/2022          Vitesse          Waalwijk     1     2    1.53   \n",
       "777  20/03/2022        Willem II        AZ Alkmaar     2     2    5.50   \n",
       "\n",
       "     B365CD  B365CA  B365C>2.5  B365C<2.5  target  \n",
       "768    3.40    4.50       2.00       1.85       0  \n",
       "769    3.30    3.30       2.10       1.70       1  \n",
       "770    3.60    3.75       1.88       1.98       1  \n",
       "771    4.00    6.00       1.90       1.95       1  \n",
       "772    3.30    2.90       2.10       1.70       0  \n",
       "773    3.60    4.33       1.98       1.88       0  \n",
       "774    5.00    7.50       1.44       2.70       1  \n",
       "775    8.50   19.00       1.25       4.00       1  \n",
       "776    4.33    5.75       1.72       2.07       0  \n",
       "777    4.00    1.61       2.05       1.80       0  "
      ]
     },
     "execution_count": 50,
     "metadata": {},
     "output_type": "execute_result"
    }
   ],
   "source": [
    "import numpy as np\n",
    "import pandas as pd\n",
    "\n",
    "from sklearn.preprocessing import MinMaxScaler\n",
    "from sklearn.linear_model import LogisticRegression\n",
    "from sklearn.metrics import classification_report\n",
    "\n",
    "def target(FTHG, FTAG):\n",
    "    if (FTHG > FTAG):\n",
    "        return 1\n",
    "    return 0\n",
    "\n",
    "leauge = \"N1\"\n",
    "\n",
    "data = [\n",
    "    f\"https://www.football-data.co.uk/mmz4281/1920/{leauge}.csv\",\n",
    "    f\"https://www.football-data.co.uk/mmz4281/2021/{leauge}.csv\",\n",
    "    f\"https://www.football-data.co.uk/mmz4281/2122/{leauge}.csv\"\n",
    "]\n",
    "\n",
    "li = []\n",
    "\n",
    "for leauge in data:\n",
    "    df = pd.read_csv(leauge)\n",
    "    li.append(df)\n",
    "\n",
    "df = pd.concat(li)\n",
    "\n",
    "df = df[[\"Date\", \"HomeTeam\", \"AwayTeam\", \"FTHG\", \"FTAG\", \"B365CH\", \"B365CD\", \"B365CA\", \"B365C>2.5\", \"B365C<2.5\"]]\n",
    "df[\"target\"] = np.vectorize(target)(df[\"FTHG\"], df[\"FTAG\"])\n",
    "\n",
    "print(df.isnull().sum().sum())\n",
    "df = df.dropna()\n",
    "\n",
    "df = df.reset_index(drop=True)\n",
    "\n",
    "df.tail(10)"
   ]
  },
  {
   "cell_type": "code",
   "execution_count": 51,
   "id": "2bfde0e8",
   "metadata": {},
   "outputs": [
    {
     "name": "stdout",
     "output_type": "stream",
     "text": [
      "(622, 47) (622,) (156, 47) (156,)\n",
      "(78, 47) (78,) (78, 47) (78,)\n"
     ]
    }
   ],
   "source": [
    "team_data = pd.get_dummies(df[[\"HomeTeam\", \"AwayTeam\"]])\n",
    "odds = df[[\"B365CH\", \"B365CD\", \"B365CA\", \"B365C>2.5\", \"B365C<2.5\"]]\n",
    "\n",
    "X = pd.concat([team_data, odds], axis=1)\n",
    "y = df[\"target\"]\n",
    "\n",
    "test_size_1 = int(0.8 * len(X))\n",
    "\n",
    "X_train = X[:test_size_1]\n",
    "y_train = y[:test_size_1]\n",
    "\n",
    "X_other = X[test_size_1:]\n",
    "y_other = y[test_size_1:]\n",
    "\n",
    "print(X_train.shape, y_train.shape, X_other.shape, y_other.shape)\n",
    "\n",
    "test_size_2 = int(0.5 * len(X_other))\n",
    "\n",
    "X_val = X_other[:test_size_2]\n",
    "y_val = y_other[:test_size_2]\n",
    "\n",
    "X_test = X_other[test_size_2:]\n",
    "y_test = y_other[test_size_2:]\n",
    "\n",
    "print(X_val.shape, y_val.shape, X_test.shape, y_test.shape)\n",
    "\n",
    "scaler = MinMaxScaler()\n",
    "X_train = scaler.fit_transform(X_train)\n",
    "X_val = scaler.transform(X_val)\n",
    "X_test = scaler.transform(X_test)"
   ]
  },
  {
   "cell_type": "code",
   "execution_count": 52,
   "id": "acde9e56",
   "metadata": {},
   "outputs": [
    {
     "name": "stdout",
     "output_type": "stream",
     "text": [
      "43.0\n",
      "0.043000000000000003\n",
      "0.7692307692307693\n"
     ]
    }
   ],
   "source": [
    "start = 0.001\n",
    "end = 2\n",
    "jump = 0.001\n",
    "\n",
    "scores = []\n",
    "for c in np.arange(start, end + jump, jump):\n",
    "    model = LogisticRegression(C=c)\n",
    "    model.fit(X_train, y_train);\n",
    "    score = model.score(X_val, y_val)\n",
    "    scores.append(score)\n",
    "    \n",
    "best_index = np.argmax(scores)\n",
    "\n",
    "print(best_index + (start / jump))\n",
    "print((best_index + (start / jump)) * jump)\n",
    "print(scores[best_index])"
   ]
  },
  {
   "cell_type": "code",
   "execution_count": 53,
   "id": "e989d7aa",
   "metadata": {},
   "outputs": [
    {
     "name": "stdout",
     "output_type": "stream",
     "text": [
      "              precision    recall  f1-score   support\n",
      "\n",
      "           0       0.74      0.93      0.83        46\n",
      "           1       0.85      0.53      0.65        32\n",
      "\n",
      "    accuracy                           0.77        78\n",
      "   macro avg       0.80      0.73      0.74        78\n",
      "weighted avg       0.79      0.77      0.76        78\n",
      "\n"
     ]
    },
    {
     "data": {
      "text/plain": [
       "0    0.589744\n",
       "1    0.410256\n",
       "Name: target, dtype: float64"
      ]
     },
     "execution_count": 53,
     "metadata": {},
     "output_type": "execute_result"
    }
   ],
   "source": [
    "model = LogisticRegression(C=0.043)\n",
    "model.fit(X_train, y_train);\n",
    "\n",
    "print(classification_report(y_val, model.predict(X_val)))\n",
    "\n",
    "y_val.value_counts() / len(y_val)"
   ]
  },
  {
   "cell_type": "code",
   "execution_count": 54,
   "id": "60a33435",
   "metadata": {},
   "outputs": [
    {
     "name": "stdout",
     "output_type": "stream",
     "text": [
      "              precision    recall  f1-score   support\n",
      "\n",
      "           0       0.67      0.89      0.77        46\n",
      "           1       0.71      0.38      0.49        32\n",
      "\n",
      "    accuracy                           0.68        78\n",
      "   macro avg       0.69      0.63      0.63        78\n",
      "weighted avg       0.69      0.68      0.65        78\n",
      "\n"
     ]
    },
    {
     "data": {
      "text/plain": [
       "0    0.589744\n",
       "1    0.410256\n",
       "Name: target, dtype: float64"
      ]
     },
     "execution_count": 54,
     "metadata": {},
     "output_type": "execute_result"
    }
   ],
   "source": [
    "print(classification_report(y_test, model.predict(X_test)))\n",
    "\n",
    "y_test.value_counts() / len(y_test)"
   ]
  },
  {
   "cell_type": "code",
   "execution_count": 40,
   "id": "fcd890c1",
   "metadata": {},
   "outputs": [],
   "source": [
    "test = pd.DataFrame(columns=team_data.columns, data=np.zeros(len(team_data.columns)).reshape(1, len(team_data.columns)))"
   ]
  },
  {
   "cell_type": "code",
   "execution_count": 31,
   "id": "87df4421",
   "metadata": {},
   "outputs": [
    {
     "data": {
      "text/plain": [
       "array([[0.47244433, 0.52755567]])"
      ]
     },
     "execution_count": 31,
     "metadata": {},
     "output_type": "execute_result"
    }
   ],
   "source": [
    "test[\"HomeTeam_Napoli\"] = 1\n",
    "test[\"AwayTeam_Udinese\"] = 1\n",
    "\n",
    "test[\"B365CH\"] = 1.53\n",
    "test[\"B365CD\"] = 4.2\n",
    "test[\"B365CA\"] = 6\n",
    "test[\"B365C>2.5\"] = 1.84\n",
    "test[\"B365C<2.5\"] = 2.06\n",
    "\n",
    "test = scaler.transform(test)\n",
    "\n",
    "model.predict_proba(test)"
   ]
  },
  {
   "cell_type": "code",
   "execution_count": 32,
   "id": "6de06718",
   "metadata": {},
   "outputs": [
    {
     "data": {
      "text/plain": [
       "array([[2.11665152, 1.89553454]])"
      ]
     },
     "execution_count": 32,
     "metadata": {},
     "output_type": "execute_result"
    }
   ],
   "source": [
    "1 / model.predict_proba(test)"
   ]
  },
  {
   "cell_type": "code",
   "execution_count": null,
   "id": "2a01ef68",
   "metadata": {},
   "outputs": [],
   "source": []
  }
 ],
 "metadata": {
  "kernelspec": {
   "display_name": "Python 3 (ipykernel)",
   "language": "python",
   "name": "python3"
  },
  "language_info": {
   "codemirror_mode": {
    "name": "ipython",
    "version": 3
   },
   "file_extension": ".py",
   "mimetype": "text/x-python",
   "name": "python",
   "nbconvert_exporter": "python",
   "pygments_lexer": "ipython3",
   "version": "3.9.7"
  }
 },
 "nbformat": 4,
 "nbformat_minor": 5
}
