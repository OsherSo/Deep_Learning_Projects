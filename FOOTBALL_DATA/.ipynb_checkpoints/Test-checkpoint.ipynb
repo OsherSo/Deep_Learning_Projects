{
 "cells": [
  {
   "cell_type": "code",
   "execution_count": 4,
   "id": "12b2f052",
   "metadata": {},
   "outputs": [],
   "source": [
    "import time\n",
    "from GetFullTimeResultProbability import GetProbability"
   ]
  },
  {
   "cell_type": "code",
   "execution_count": 15,
   "id": "8b0106b7",
   "metadata": {},
   "outputs": [
    {
     "name": "stdout",
     "output_type": "stream",
     "text": [
      "0.4715 0.2195 0.2455\n",
      "\n",
      "0.5059 0.4941\n",
      "\n",
      "0.7814 0.2186\n",
      "\n",
      "0.8617 0.1383\n",
      "\n",
      "The time of the run: 1.78\n"
     ]
    }
   ],
   "source": [
    "start = time.time()\n",
    "\n",
    "print_status = 0\n",
    "\n",
    "leauge_id = \"D1\"\n",
    "\n",
    "year = 2022\n",
    "month = 3\n",
    "\n",
    "home_team = \"Mainz\"\n",
    "away_team = \"Arminia Bielefeld\"\n",
    "\n",
    "B365CH = 1.45\n",
    "B365CD = 4.33\n",
    "B365CA = 7\n",
    "B365C_OVER = 1.86\n",
    "B365C_UNDER = 2.04\n",
    "\n",
    "home_proba, draw_proba, away_proba, over_1_5_proba, over_2_5_proba, over_3_5_proba = GetProbability(\n",
    "    leauge_id=leauge_id, home_team=home_team, away_team=away_team, year=year, month=month, \n",
    "    B365CH=B365CH, B365CD=B365CD, B365CA=B365CA, \n",
    "    B365C_OVER=B365C_OVER, B365C_UNDER=B365C_UNDER, print_status=print_status\n",
    ")\n",
    "\n",
    "print(round(home_proba, 4), round(draw_proba, 4), round(away_proba, 4))\n",
    "print()\n",
    "\n",
    "print(round(1 - over_1_5_proba, 4), round(over_1_5_proba, 4))\n",
    "print()\n",
    "\n",
    "print(round(1 - over_2_5_proba, 4), round(over_2_5_proba, 4))\n",
    "print()\n",
    "\n",
    "print(round(1 - over_3_5_proba, 4), round(over_3_5_proba, 4))\n",
    "print()\n",
    "\n",
    "stop = time.time()\n",
    "\n",
    "print(\"The time of the run:\", round(stop - start, 2))"
   ]
  },
  {
   "cell_type": "code",
   "execution_count": 13,
   "id": "ce7748fa",
   "metadata": {},
   "outputs": [
    {
     "data": {
      "text/plain": [
       "(3.3, 3.8, 2.1, 1.61, 2.3)"
      ]
     },
     "execution_count": 13,
     "metadata": {},
     "output_type": "execute_result"
    }
   ],
   "source": [
    "B365CH, B365CD, B365CA, B365C_OVER, B365C_UNDER"
   ]
  },
  {
   "cell_type": "code",
   "execution_count": null,
   "id": "eb7aa76c",
   "metadata": {},
   "outputs": [],
   "source": []
  },
  {
   "cell_type": "code",
   "execution_count": null,
   "id": "9417dd8d",
   "metadata": {},
   "outputs": [],
   "source": []
  },
  {
   "cell_type": "code",
   "execution_count": null,
   "id": "e2498c80",
   "metadata": {},
   "outputs": [],
   "source": [
    "              precision    recall  f1-score   support\n",
    "\n",
    "           0       0.77      0.84      0.81       480\n",
    "           1       0.76      0.67      0.71       365\n",
    "\n",
    "    accuracy                           0.77       845\n",
    "   macro avg       0.77      0.76      0.76       845\n",
    "weighted avg       0.77      0.77      0.77       845\n",
    "\n",
    "              precision    recall  f1-score   support\n",
    "\n",
    "           0       0.76      0.99      0.86       642\n",
    "           1       0.56      0.02      0.05       203\n",
    "\n",
    "    accuracy                           0.76       845\n",
    "   macro avg       0.66      0.51      0.46       845\n",
    "weighted avg       0.71      0.76      0.67       845\n",
    "\n",
    "              precision    recall  f1-score   support\n",
    "\n",
    "           0       0.81      0.92      0.86       568\n",
    "           1       0.77      0.56      0.65       277\n",
    "\n",
    "    accuracy                           0.80       845\n",
    "   macro avg       0.79      0.74      0.75       845\n",
    "weighted avg       0.80      0.80      0.79       845\n",
    "\n",
    "              precision    recall  f1-score   support\n",
    "\n",
    "           0       0.76      0.21      0.33       139\n",
    "           1       0.86      0.99      0.92       706\n",
    "\n",
    "    accuracy                           0.86       845\n",
    "   macro avg       0.81      0.60      0.62       845\n",
    "weighted avg       0.85      0.86      0.82       845\n",
    "\n",
    "              precision    recall  f1-score   support\n",
    "\n",
    "           0       0.74      0.60      0.67       333\n",
    "           1       0.77      0.86      0.81       512\n",
    "\n",
    "    accuracy                           0.76       845\n",
    "   macro avg       0.76      0.73      0.74       845\n",
    "weighted avg       0.76      0.76      0.76       845\n",
    "\n",
    "              precision    recall  f1-score   support\n",
    "\n",
    "           0       0.75      0.87      0.81       516\n",
    "           1       0.73      0.56      0.63       329\n",
    "\n",
    "    accuracy                           0.75       845\n",
    "   macro avg       0.74      0.71      0.72       845\n",
    "weighted avg       0.75      0.75      0.74       845"
   ]
  }
 ],
 "metadata": {
  "kernelspec": {
   "display_name": "Python 3 (ipykernel)",
   "language": "python",
   "name": "python3"
  },
  "language_info": {
   "codemirror_mode": {
    "name": "ipython",
    "version": 3
   },
   "file_extension": ".py",
   "mimetype": "text/x-python",
   "name": "python",
   "nbconvert_exporter": "python",
   "pygments_lexer": "ipython3",
   "version": "3.9.7"
  }
 },
 "nbformat": 4,
 "nbformat_minor": 5
}
