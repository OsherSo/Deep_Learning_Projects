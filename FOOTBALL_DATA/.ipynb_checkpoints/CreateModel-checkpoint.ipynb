{
 "cells": [
  {
   "cell_type": "code",
   "execution_count": 2,
   "id": "12b2f052",
   "metadata": {},
   "outputs": [],
   "source": [
    "from GetHomeTeamWinProbability import GetHomeTeamWinProbability\n",
    "\n",
    "from GetDrawProbability import GetDrawProbability\n",
    "\n",
    "from GetAwayTeamWinProbability import GetAwayTeamWinProbability"
   ]
  },
  {
   "cell_type": "code",
   "execution_count": 9,
   "id": "d3a35b76",
   "metadata": {},
   "outputs": [
    {
     "name": "stdout",
     "output_type": "stream",
     "text": [
      "0.6279 0.16 0.2078\n",
      "0.9957\n"
     ]
    }
   ],
   "source": [
    "leauge_id = \"E0\"\n",
    "\n",
    "year = 2022\n",
    "month = 3\n",
    "\n",
    "home_team = \"Leicester\"\n",
    "away_team = \"Brentford\"\n",
    "\n",
    "B365CH = 2.15\n",
    "B365CD = 3.4\n",
    "B365CA = 3.4\n",
    "B365C_OVER = 1.89\n",
    "B365C_UNDER = 2.01\n",
    "\n",
    "home_probability = GetHomeTeamWinProbability(\n",
    "    leauge_id=leauge_id, home_team=home_team, away_team=away_team, year=year, month=month, \n",
    "    B365CH=B365CH, B365CD=B365CD, B365CA=B365CA, \n",
    "    B365C_OVER=B365C_OVER, B365C_UNDER=B365C_UNDER\n",
    ")[0][1]\n",
    "\n",
    "draw_probability = GetDrawProbability(\n",
    "    leauge_id=leauge_id, home_team=home_team, away_team=away_team, year=year, month=month, \n",
    "    B365CH=B365CH, B365CD=B365CD, B365CA=B365CA, \n",
    "    B365C_OVER=B365C_OVER, B365C_UNDER=B365C_UNDER\n",
    ")[0][1]\n",
    "\n",
    "away_probability = GetAwayTeamWinProbability(\n",
    "    leauge_id=leauge_id, home_team=home_team, away_team=away_team, year=year, month=month, \n",
    "    B365CH=B365CH, B365CD=B365CD, B365CA=B365CA, \n",
    "    B365C_OVER=B365C_OVER, B365C_UNDER=B365C_UNDER\n",
    ")[0][1]\n",
    "\n",
    "print(round(home_probability, 4), round(draw_probability, 4), round(away_probability, 4))\n",
    "print(round(home_probability + draw_probability + away_probability, 4))"
   ]
  },
  {
   "cell_type": "code",
   "execution_count": 10,
   "id": "ed3a831c",
   "metadata": {},
   "outputs": [
    {
     "data": {
      "text/plain": [
       "array([[2.21425917, 1.82354741]])"
      ]
     },
     "execution_count": 10,
     "metadata": {},
     "output_type": "execute_result"
    }
   ],
   "source": [
    "1 / probability"
   ]
  },
  {
   "cell_type": "code",
   "execution_count": null,
   "id": "eef082e0",
   "metadata": {},
   "outputs": [],
   "source": []
  }
 ],
 "metadata": {
  "kernelspec": {
   "display_name": "Python 3 (ipykernel)",
   "language": "python",
   "name": "python3"
  },
  "language_info": {
   "codemirror_mode": {
    "name": "ipython",
    "version": 3
   },
   "file_extension": ".py",
   "mimetype": "text/x-python",
   "name": "python",
   "nbconvert_exporter": "python",
   "pygments_lexer": "ipython3",
   "version": "3.9.7"
  }
 },
 "nbformat": 4,
 "nbformat_minor": 5
}
