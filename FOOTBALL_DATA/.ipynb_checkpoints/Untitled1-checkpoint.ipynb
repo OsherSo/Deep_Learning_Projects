{
 "cells": [
  {
   "cell_type": "code",
   "execution_count": 1,
   "id": "eca1d519",
   "metadata": {},
   "outputs": [
    {
     "name": "stderr",
     "output_type": "stream",
     "text": [
      "\n",
      "\n",
      "====== WebDriver manager ======\n",
      "Current google-chrome version is 99.0.4844\n",
      "Get LATEST chromedriver version for 99.0.4844 google-chrome\n",
      "Driver [/home/osher/.wdm/drivers/chromedriver/linux64/99.0.4844.51/chromedriver] found in cache\n"
     ]
    }
   ],
   "source": [
    "from webdriver_manager.chrome import ChromeDriverManager\n",
    "\n",
    "from selenium import webdriver\n",
    "\n",
    "from selenium.webdriver.chrome.service import Service as ChromeService\n",
    "from selenium.webdriver.common.by import By\n",
    "from selenium.webdriver.chrome.options import Options\n",
    "\n",
    "from selenium.webdriver.support.ui import WebDriverWait\n",
    "from selenium.webdriver.support import expected_conditions as EC\n",
    "\n",
    "chrome_options = Options()\n",
    "# chrome_options.add_argument(\"--window-size=1600,1000\")\n",
    "service = ChromeService(executable_path=ChromeDriverManager().install())\n",
    "\n",
    "games = [\n",
    "    \"foImVv0N\",\n",
    "    \"b76idBaF\",\n",
    "    \"Ua8TGTNF\",\n",
    "    \"hWMjpQNH\"\n",
    "]"
   ]
  },
  {
   "cell_type": "code",
   "execution_count": null,
   "id": "6d0f8d9c",
   "metadata": {},
   "outputs": [],
   "source": [
    "for game in games:\n",
    "    driver = webdriver.Chrome(service=service, chrome_options=chrome_options)\n",
    "\n",
    "    driver.get(f\"https://www.flashscore.com/match/{game}/#/match-summary/match-statistics/0\")\n",
    "    WebDriverWait(driver, 60).until(EC.element_to_be_clickable((By.CSS_SELECTOR, \".stat__homeValue\"))).click()\n",
    "\n",
    "    data = driver.find_elements(By.CLASS_NAME, \"stat__homeValue\")\n",
    "\n",
    "    print(len(data))\n",
    "\n",
    "    driver.quit()"
   ]
  }
 ],
 "metadata": {
  "kernelspec": {
   "display_name": "Python 3 (ipykernel)",
   "language": "python",
   "name": "python3"
  },
  "language_info": {
   "codemirror_mode": {
    "name": "ipython",
    "version": 3
   },
   "file_extension": ".py",
   "mimetype": "text/x-python",
   "name": "python",
   "nbconvert_exporter": "python",
   "pygments_lexer": "ipython3",
   "version": "3.9.7"
  }
 },
 "nbformat": 4,
 "nbformat_minor": 5
}
