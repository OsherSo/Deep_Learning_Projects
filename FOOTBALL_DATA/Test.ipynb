{
 "cells": [
  {
   "cell_type": "code",
   "execution_count": 1,
   "id": "12b2f052",
   "metadata": {},
   "outputs": [],
   "source": [
    "import time\n",
    "from GetFullTimeResultProbability import GetFullTimeResultProbability"
   ]
  },
  {
   "cell_type": "code",
   "execution_count": 5,
   "id": "8b0106b7",
   "metadata": {},
   "outputs": [
    {
     "name": "stdout",
     "output_type": "stream",
     "text": [
      "0.5462 0.1209 0.306\n",
      "\n",
      "0.2253 0.7747\n",
      "\n",
      "0.4259 0.5741\n",
      "\n",
      "0.6938 0.3062\n",
      "\n",
      "The time of the run: 1.77\n"
     ]
    }
   ],
   "source": [
    "start = time.time()\n",
    "\n",
    "leauge_id = \"E0\"\n",
    "\n",
    "year = 2022\n",
    "month = 3\n",
    "\n",
    "home_team = \"Tottenham\"\n",
    "away_team = \"West Ham\"\n",
    "\n",
    "B365CH = 1.72\n",
    "B365CD = 3.8\n",
    "B365CA = 4.75\n",
    "B365C_OVER = 1.72\n",
    "B365C_UNDER = 2.1\n",
    "\n",
    "home_proba, draw_proba, away_proba, over_1_5_proba, over_2_5_proba, over_3_5_proba = GetFullTimeResultProbability(\n",
    "    leauge_id=leauge_id, home_team=home_team, away_team=away_team, year=year, month=month, \n",
    "    B365CH=B365CH, B365CD=B365CD, B365CA=B365CA, \n",
    "    B365C_OVER=B365C_OVER, B365C_UNDER=B365C_UNDER\n",
    ")\n",
    "\n",
    "print(round(home_proba, 4), round(draw_proba, 4), round(away_proba, 4))\n",
    "print()\n",
    "\n",
    "print(round(1 - over_1_5_proba, 4), round(over_1_5_proba, 4))\n",
    "print()\n",
    "\n",
    "print(round(1 - over_2_5_proba, 4), round(over_2_5_proba, 4))\n",
    "print()\n",
    "\n",
    "print(round(1 - over_3_5_proba, 4), round(over_3_5_proba, 4))\n",
    "print()\n",
    "\n",
    "stop = time.time()\n",
    "\n",
    "print(\"The time of the run:\", round(stop - start, 2))"
   ]
  },
  {
   "cell_type": "code",
   "execution_count": null,
   "id": "ed670c82",
   "metadata": {},
   "outputs": [],
   "source": [
    "0.6373 0.1591 0.2014\n",
    "0.9978\n",
    "The time of the run: 1.93"
   ]
  }
 ],
 "metadata": {
  "kernelspec": {
   "display_name": "Python 3 (ipykernel)",
   "language": "python",
   "name": "python3"
  },
  "language_info": {
   "codemirror_mode": {
    "name": "ipython",
    "version": 3
   },
   "file_extension": ".py",
   "mimetype": "text/x-python",
   "name": "python",
   "nbconvert_exporter": "python",
   "pygments_lexer": "ipython3",
   "version": "3.9.7"
  }
 },
 "nbformat": 4,
 "nbformat_minor": 5
}
