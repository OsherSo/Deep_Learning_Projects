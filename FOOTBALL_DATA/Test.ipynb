{
 "cells": [
  {
   "cell_type": "code",
   "execution_count": 1,
   "id": "12b2f052",
   "metadata": {},
   "outputs": [],
   "source": [
    "import time\n",
    "from GetFullTimeResultProbability import GetProbability"
   ]
  },
  {
   "cell_type": "code",
   "execution_count": 5,
   "id": "8b0106b7",
   "metadata": {},
   "outputs": [
    {
     "name": "stdout",
     "output_type": "stream",
     "text": [
      "2\n",
      "              precision    recall  f1-score   support\n",
      "\n",
      "           0       0.81      0.88      0.84       622\n",
      "           1       0.79      0.69      0.74       422\n",
      "\n",
      "    accuracy                           0.80      1044\n",
      "   macro avg       0.80      0.78      0.79      1044\n",
      "weighted avg       0.80      0.80      0.80      1044\n",
      "\n",
      "              precision    recall  f1-score   support\n",
      "\n",
      "           0       0.76      0.98      0.86       784\n",
      "           1       0.61      0.08      0.14       260\n",
      "\n",
      "    accuracy                           0.76      1044\n",
      "   macro avg       0.68      0.53      0.50      1044\n",
      "weighted avg       0.72      0.76      0.68      1044\n",
      "\n",
      "              precision    recall  f1-score   support\n",
      "\n",
      "           0       0.81      0.89      0.85       682\n",
      "           1       0.74      0.59      0.66       362\n",
      "\n",
      "    accuracy                           0.79      1044\n",
      "   macro avg       0.77      0.74      0.75      1044\n",
      "weighted avg       0.78      0.79      0.78      1044\n",
      "\n",
      "              precision    recall  f1-score   support\n",
      "\n",
      "           0       0.81      0.13      0.22       193\n",
      "           1       0.83      0.99      0.91       851\n",
      "\n",
      "    accuracy                           0.83      1044\n",
      "   macro avg       0.82      0.56      0.56      1044\n",
      "weighted avg       0.83      0.83      0.78      1044\n",
      "\n",
      "              precision    recall  f1-score   support\n",
      "\n",
      "           0       0.72      0.58      0.65       429\n",
      "           1       0.74      0.85      0.79       615\n",
      "\n",
      "    accuracy                           0.74      1044\n",
      "   macro avg       0.73      0.71      0.72      1044\n",
      "weighted avg       0.74      0.74      0.73      1044\n",
      "\n",
      "              precision    recall  f1-score   support\n",
      "\n",
      "           0       0.77      0.90      0.83       680\n",
      "           1       0.73      0.49      0.59       364\n",
      "\n",
      "    accuracy                           0.76      1044\n",
      "   macro avg       0.75      0.70      0.71      1044\n",
      "weighted avg       0.76      0.76      0.75      1044\n",
      "\n",
      "0.6313 0.2247 0.1438\n",
      "\n",
      "0.202 0.798\n",
      "\n",
      "0.5717 0.4283\n",
      "\n",
      "0.6887 0.3113\n",
      "\n",
      "The time of the run: 2.04\n"
     ]
    }
   ],
   "source": [
    "start = time.time()\n",
    "\n",
    "print_status = 1\n",
    "\n",
    "leauge_id = \"I1\"\n",
    "\n",
    "year = 2022\n",
    "month = 3\n",
    "\n",
    "home_team = \"Napoli\"\n",
    "away_team = \"Udinese\"\n",
    "\n",
    "B365CH = 1.53\n",
    "B365CD = 4.2\n",
    "B365CA = 6\n",
    "B365C_OVER = 1.84\n",
    "B365C_UNDER = 2.06\n",
    "\n",
    "home_proba, draw_proba, away_proba, over_1_5_proba, over_2_5_proba, over_3_5_proba = GetProbability(\n",
    "    leauge_id=leauge_id, home_team=home_team, away_team=away_team, year=year, month=month, \n",
    "    B365CH=B365CH, B365CD=B365CD, B365CA=B365CA, \n",
    "    B365C_OVER=B365C_OVER, B365C_UNDER=B365C_UNDER, print_status=print_status\n",
    ")\n",
    "\n",
    "print(round(home_proba, 4), round(draw_proba, 4), round(away_proba, 4))\n",
    "print()\n",
    "\n",
    "print(round(1 - over_1_5_proba, 4), round(over_1_5_proba, 4))\n",
    "print()\n",
    "\n",
    "print(round(1 - over_2_5_proba, 4), round(over_2_5_proba, 4))\n",
    "print()\n",
    "\n",
    "print(round(1 - over_3_5_proba, 4), round(over_3_5_proba, 4))\n",
    "print()\n",
    "\n",
    "stop = time.time()\n",
    "\n",
    "print(\"The time of the run:\", round(stop - start, 2))"
   ]
  },
  {
   "cell_type": "code",
   "execution_count": 6,
   "id": "ce7748fa",
   "metadata": {},
   "outputs": [
    {
     "data": {
      "text/plain": [
       "(1.53, 4.2, 6, 1.84, 2.06)"
      ]
     },
     "execution_count": 6,
     "metadata": {},
     "output_type": "execute_result"
    }
   ],
   "source": [
    "B365CH, B365CD, B365CA, B365C_OVER, B365C_UNDER"
   ]
  },
  {
   "cell_type": "code",
   "execution_count": null,
   "id": "e2498c80",
   "metadata": {},
   "outputs": [],
   "source": []
  }
 ],
 "metadata": {
  "kernelspec": {
   "display_name": "Python 3 (ipykernel)",
   "language": "python",
   "name": "python3"
  },
  "language_info": {
   "codemirror_mode": {
    "name": "ipython",
    "version": 3
   },
   "file_extension": ".py",
   "mimetype": "text/x-python",
   "name": "python",
   "nbconvert_exporter": "python",
   "pygments_lexer": "ipython3",
   "version": "3.9.7"
  }
 },
 "nbformat": 4,
 "nbformat_minor": 5
}
