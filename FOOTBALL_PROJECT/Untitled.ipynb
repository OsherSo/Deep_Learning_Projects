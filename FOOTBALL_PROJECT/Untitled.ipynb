{
 "cells": [
  {
   "cell_type": "code",
   "execution_count": 1,
   "id": "2d124100",
   "metadata": {},
   "outputs": [],
   "source": [
    "from find_best_model import find_best_model"
   ]
  },
  {
   "cell_type": "code",
   "execution_count": 5,
   "id": "2c72b820",
   "metadata": {},
   "outputs": [
    {
     "name": "stdout",
     "output_type": "stream",
     "text": [
      "number of null: 0\n",
      "\n",
      "Train : (733, 53), (733,)\n",
      "Validation : (157, 53), (157,)\n",
      "Test : (158, 53), (158,)\n",
      "\n",
      "Best C: 0.104, Accuracy: 0.7006369426751592\n",
      "\n",
      "******************************************** - Validation - ********************************************\n",
      "              precision    recall  f1-score   support\n",
      "\n",
      "           0       0.67      0.93      0.78        91\n",
      "           1       0.81      0.38      0.52        66\n",
      "\n",
      "    accuracy                           0.70       157\n",
      "   macro avg       0.74      0.66      0.65       157\n",
      "weighted avg       0.73      0.70      0.67       157\n",
      "\n",
      "0    0.579618\n",
      "1    0.420382\n",
      "Name: target, dtype: float64\n",
      "*********************************************** - Test - ***********************************************\n",
      "              precision    recall  f1-score   support\n",
      "\n",
      "           0       0.66      0.96      0.78        91\n",
      "           1       0.85      0.34      0.49        67\n",
      "\n",
      "    accuracy                           0.70       158\n",
      "   macro avg       0.76      0.65      0.64       158\n",
      "weighted avg       0.74      0.70      0.66       158\n",
      "\n",
      "0    0.575949\n",
      "1    0.424051\n",
      "Name: target, dtype: float64\n"
     ]
    }
   ],
   "source": [
    "model, scaler, team_columns = find_best_model(league_name=\"England1\")"
   ]
  },
  {
   "cell_type": "code",
   "execution_count": 3,
   "id": "09678010",
   "metadata": {},
   "outputs": [],
   "source": [
    "# test = pd.DataFrame(columns=team_columns, data=np.zeros(len(team_columns)).reshape(1, len(team_columns)))"
   ]
  },
  {
   "cell_type": "code",
   "execution_count": 4,
   "id": "006699c5",
   "metadata": {},
   "outputs": [],
   "source": [
    "# test[\"HomeTeam_Getafe\"] = 1\n",
    "# test[\"AwayTeam_Mallorca\"] = 1\n",
    "\n",
    "# test[\"B365CH\"] = 2.1\n",
    "# test[\"B365CD\"] = 3.1\n",
    "# test[\"B365CA\"] = 3.8\n",
    "# test[\"B365C>2.5\"] = 2.75\n",
    "# test[\"B365C<2.5\"] = 1.44\n",
    "\n",
    "# test = scaler.transform(test)\n",
    "\n",
    "# model.predict_proba(test)"
   ]
  }
 ],
 "metadata": {
  "kernelspec": {
   "display_name": "Python 3 (ipykernel)",
   "language": "python",
   "name": "python3"
  },
  "language_info": {
   "codemirror_mode": {
    "name": "ipython",
    "version": 3
   },
   "file_extension": ".py",
   "mimetype": "text/x-python",
   "name": "python",
   "nbconvert_exporter": "python",
   "pygments_lexer": "ipython3",
   "version": "3.9.7"
  }
 },
 "nbformat": 4,
 "nbformat_minor": 5
}
