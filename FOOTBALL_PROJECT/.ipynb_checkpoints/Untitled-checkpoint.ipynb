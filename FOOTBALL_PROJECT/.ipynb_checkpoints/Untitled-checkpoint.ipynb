{
 "cells": [
  {
   "cell_type": "code",
   "execution_count": 6,
   "id": "ebaea461",
   "metadata": {},
   "outputs": [],
   "source": [
    "import numpy as np\n",
    "import pandas as pd\n",
    "\n",
    "from find_best_model import find_best_model"
   ]
  },
  {
   "cell_type": "code",
   "execution_count": 8,
   "id": "a115ae1d",
   "metadata": {},
   "outputs": [
    {
     "name": "stdout",
     "output_type": "stream",
     "text": [
      "number of null: 0\n",
      "\n",
      "Train : (838, 53), (838,)\n",
      "Validation : (105, 53), (105,)\n",
      "Test : (105, 53), (105,)\n",
      "\n",
      "Best C: 0.144, Accuracy: 0.7047619047619048\n",
      "\n",
      "******************************************** - Validation - ********************************************\n",
      "              precision    recall  f1-score   support\n",
      "\n",
      "           0       0.69      0.86      0.77        59\n",
      "           1       0.74      0.50      0.60        46\n",
      "\n",
      "    accuracy                           0.70       105\n",
      "   macro avg       0.72      0.68      0.68       105\n",
      "weighted avg       0.71      0.70      0.69       105\n",
      "\n",
      "0    0.561905\n",
      "1    0.438095\n",
      "Name: target, dtype: float64\n",
      "*********************************************** - Test - ***********************************************\n",
      "              precision    recall  f1-score   support\n",
      "\n",
      "           0       0.67      0.89      0.77        63\n",
      "           1       0.68      0.36      0.47        42\n",
      "\n",
      "    accuracy                           0.68       105\n",
      "   macro avg       0.68      0.62      0.62       105\n",
      "weighted avg       0.68      0.68      0.65       105\n",
      "\n",
      "0    0.6\n",
      "1    0.4\n",
      "Name: target, dtype: float64\n"
     ]
    }
   ],
   "source": [
    "model, team_columns = find_best_model(league_name=\"England1\")"
   ]
  },
  {
   "cell_type": "code",
   "execution_count": 9,
   "id": "518cb133",
   "metadata": {},
   "outputs": [],
   "source": [
    "test = pd.DataFrame(columns=team_columns, data=np.zeros(len(team_columns)).reshape(1, len(team_columns)))"
   ]
  },
  {
   "cell_type": "code",
   "execution_count": 10,
   "id": "99a6bd99",
   "metadata": {},
   "outputs": [
    {
     "ename": "NameError",
     "evalue": "name 'scaler' is not defined",
     "output_type": "error",
     "traceback": [
      "\u001b[1;31m---------------------------------------------------------------------------\u001b[0m",
      "\u001b[1;31mNameError\u001b[0m                                 Traceback (most recent call last)",
      "\u001b[1;32m~\\AppData\\Local\\Temp/ipykernel_5824/1456165245.py\u001b[0m in \u001b[0;36m<module>\u001b[1;34m\u001b[0m\n\u001b[0;32m      8\u001b[0m \u001b[0mtest\u001b[0m\u001b[1;33m[\u001b[0m\u001b[1;34m\"B365C<2.5\"\u001b[0m\u001b[1;33m]\u001b[0m \u001b[1;33m=\u001b[0m \u001b[1;36m3.4\u001b[0m\u001b[1;33m\u001b[0m\u001b[1;33m\u001b[0m\u001b[0m\n\u001b[0;32m      9\u001b[0m \u001b[1;33m\u001b[0m\u001b[0m\n\u001b[1;32m---> 10\u001b[1;33m \u001b[0mtest\u001b[0m \u001b[1;33m=\u001b[0m \u001b[0mscaler\u001b[0m\u001b[1;33m.\u001b[0m\u001b[0mtransform\u001b[0m\u001b[1;33m(\u001b[0m\u001b[0mtest\u001b[0m\u001b[1;33m)\u001b[0m\u001b[1;33m\u001b[0m\u001b[1;33m\u001b[0m\u001b[0m\n\u001b[0m\u001b[0;32m     11\u001b[0m \u001b[1;33m\u001b[0m\u001b[0m\n\u001b[0;32m     12\u001b[0m \u001b[0mmodel\u001b[0m\u001b[1;33m.\u001b[0m\u001b[0mpredict_proba\u001b[0m\u001b[1;33m(\u001b[0m\u001b[0mtest\u001b[0m\u001b[1;33m)\u001b[0m\u001b[1;33m\u001b[0m\u001b[1;33m\u001b[0m\u001b[0m\n",
      "\u001b[1;31mNameError\u001b[0m: name 'scaler' is not defined"
     ]
    }
   ],
   "source": [
    "test[\"HomeTeam_Liverpool\"] = 1\n",
    "test[\"AwayTeam_Watford\"] = 1\n",
    "\n",
    "test[\"B365CH\"] = 1.12\n",
    "test[\"B365CD\"] = 8\n",
    "test[\"B365CA\"] = 23\n",
    "test[\"B365C>2.5\"] = 1.33\n",
    "test[\"B365C<2.5\"] = 3.4\n",
    "\n",
    "test = scaler.transform(test)\n",
    "\n",
    "model.predict_proba(test)"
   ]
  },
  {
   "cell_type": "code",
   "execution_count": null,
   "id": "a26e3834",
   "metadata": {},
   "outputs": [],
   "source": []
  }
 ],
 "metadata": {
  "kernelspec": {
   "display_name": "Python 3 (ipykernel)",
   "language": "python",
   "name": "python3"
  },
  "language_info": {
   "codemirror_mode": {
    "name": "ipython",
    "version": 3
   },
   "file_extension": ".py",
   "mimetype": "text/x-python",
   "name": "python",
   "nbconvert_exporter": "python",
   "pygments_lexer": "ipython3",
   "version": "3.9.7"
  }
 },
 "nbformat": 4,
 "nbformat_minor": 5
}
